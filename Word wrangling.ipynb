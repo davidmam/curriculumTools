{
 "cells": [
  {
   "cell_type": "code",
   "execution_count": 1,
   "id": "e1349ecb",
   "metadata": {},
   "outputs": [],
   "source": [
    "import docx\n"
   ]
  },
  {
   "cell_type": "code",
   "execution_count": 2,
   "id": "65546ba0",
   "metadata": {},
   "outputs": [],
   "source": [
    "doc = docx.Document(\"BSc Hons Biologsci Programme Specification AY 2425.docx\")"
   ]
  },
  {
   "cell_type": "code",
   "execution_count": 6,
   "id": "f503fcc8",
   "metadata": {},
   "outputs": [
    {
     "name": "stdout",
     "output_type": "stream",
     "text": [
      "Undergraduate Programme Specification and Supporting Information\n",
      "\n",
      "\n",
      "\n",
      "\n",
      "\n",
      "\n",
      "\n",
      "\n",
      "\n",
      "Appendix\n",
      "Additional degree options and schedules of modules\n",
      "Schedule of modules for Biological Sciences (Bioinformatics)\n",
      "Core modules\n",
      "*Students must take the Bioinformatics project in either module and may take a laboratory project in the other as optional\n",
      " ** Only for students taking optional year in industry\n",
      "In addition to these modules, students at level 3 and 4 are able to select optional modules from Biomedical Sciences stream subject to timetabling\n",
      "\n",
      "\n",
      "\n",
      "\n",
      "Optional modules\n",
      "*Students must take the Bioinformatics project in either module and may take a laboratory project in the other as optional\n",
      "In addition to these modules, students at level 3 and 4 are able to select optional modules from Biomedical Sciences stream subject to timetabling\n",
      "\n",
      "Schedule of modules for Biological Sciences (Plant Sciences)\n",
      "Core modules\n",
      "\n",
      "** Only for students taking optional Year in Industry\n",
      "\n",
      "Optional modules\n",
      "In addition to these modules, students at level 3 and 4 are able to select optional modules from Biomedical Sciences stream subject to timetabling\n",
      "\n",
      "Schedule of modules for Biochemistry\n",
      "Core modules\n",
      "* Students must take either BS12009 or BS21008 with optional module choice at levels 1 and 2 dependent on which is taken\n",
      "** Only for students taking the optional Year in Industry\n",
      "\n",
      "\n",
      "Optional modules\n",
      "In addition to these modules, students at level 3 and 4 are able to select optional modules from Biomedical Sciences stream subject to timetabling\n",
      "\n",
      "\n",
      "Schedule of modules for Biological Chemistry and Drug Discovery\n",
      "Core modules\n",
      "* Students must take either BS12009 or BS21008 with optional module choice at levels 1 and 2 dependent on which is taken\n",
      "** Only for students taking optional Year in Industry\n",
      "\n",
      "\n",
      "\n",
      "\n",
      "Optional modules\n",
      "In addition to these modules, students at level 3 and 4 are able to select optional modules from Biomedical Sciences stream subject to timetabling\n",
      "\n",
      "\n",
      "\n",
      "\n",
      "\n",
      "\n",
      "\n",
      "Schedule of modules for Microbiology\n",
      "Core modules\n",
      "* Students must choose at least one of these modules but have the option to take both\n",
      " ** Only for students taking optional Year in Industry\n",
      "Optional modules\n",
      "In addition to these modules, students at level 3 and 4 are able to select optional modules from Biomedical Sciences stream subject to timetabling\n",
      "\n",
      "Schedule of modules for Molecular Biology\n",
      "Core modules\n",
      "* Students must choose at least one of these modules but have the option to take both\n",
      "** Only for students taking optional Year in Industry\n",
      "\n",
      "\n",
      "\n",
      "\n",
      "Optional modules\n",
      "In addition to these modules, students at level 3 and 4 are able to select optional modules from Biomedical Sciences stream subject to timetabling\n",
      "\n",
      "Schedule of modules for Molecular Genetics\n",
      "Core modules\n",
      "* Students must choose at least one of these modules but have the option to take both\n",
      "** Only for students taking optional Year in Industry\n",
      "\n",
      "\n",
      "\n",
      "\n",
      "\n",
      "\n",
      "\n",
      "\n",
      "\n",
      "Optional modules\n",
      "In addition to these modules, students at level 3 and 4 are able to select optional modules from Biomedical Sciences stream subject to timetabling\n",
      "\n"
     ]
    }
   ],
   "source": [
    "for p in doc.paragraphs:\n",
    "    print(p.text)\n"
   ]
  },
  {
   "cell_type": "code",
   "execution_count": 31,
   "id": "869ee059",
   "metadata": {},
   "outputs": [
    {
     "data": {
      "text/plain": [
       "'From 2024-25 onwards'"
      ]
     },
     "execution_count": 31,
     "metadata": {},
     "output_type": "execute_result"
    }
   ],
   "source": [
    "doc.tables[0].row_cells(0)[1].text\n",
    "\n"
   ]
  },
  {
   "cell_type": "code",
   "execution_count": 27,
   "id": "c475ba9d",
   "metadata": {},
   "outputs": [
    {
     "name": "stdout",
     "output_type": "stream",
     "text": [
      "1\n",
      "17\n",
      "14\n",
      "9\n",
      "11\n",
      "21\n",
      "2\n",
      "5\n",
      "21\n",
      "30\n",
      "21\n",
      "27\n",
      "23\n",
      "24\n",
      "24\n",
      "23\n",
      "21\n",
      "31\n",
      "22\n",
      "25\n",
      "21\n",
      "27\n"
     ]
    }
   ],
   "source": [
    "for t in doc.tables:\n",
    "    print(len(t.rows))"
   ]
  }
 ],
 "metadata": {
  "kernelspec": {
   "display_name": "Python 3 (ipykernel)",
   "language": "python",
   "name": "python3"
  },
  "language_info": {
   "codemirror_mode": {
    "name": "ipython",
    "version": 3
   },
   "file_extension": ".py",
   "mimetype": "text/x-python",
   "name": "python",
   "nbconvert_exporter": "python",
   "pygments_lexer": "ipython3",
   "version": "3.8.18"
  }
 },
 "nbformat": 4,
 "nbformat_minor": 5
}
