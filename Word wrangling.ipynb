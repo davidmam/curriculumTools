{
 "cells": [
  {
   "cell_type": "code",
   "execution_count": 164,
   "id": "1140bf43",
   "metadata": {},
   "outputs": [],
   "source": [
    "import docx\n",
    "import os\n",
    "import re\n",
    "from CurriculumDB.Modelsn4j import *\n",
    "from neo4j import GraphDatabase\n"
   ]
  },
  {
   "cell_type": "code",
   "execution_count": 165,
   "id": "46d6f748",
   "metadata": {
    "scrolled": true
   },
   "outputs": [
    {
     "name": "stdout",
     "output_type": "stream",
     "text": [
      "<neo4j._sync.driver.BoltDriver object at 0x00000255A5363790>\n",
      "None\n"
     ]
    }
   ],
   "source": [
    "# URI examples: \"neo4j://localhost\", \"neo4j+s://xxx.databases.neo4j.io\"\n",
    "URI = \"bolt://localhost:7687\"\n",
    "AUTH = (\"curriculum\", \"mycurriculum\")\n",
    "\n",
    "driver = GraphDatabase.driver(URI, auth=AUTH)\n",
    "print(driver)\n",
    "print(driver.verify_connectivity())\n",
    "#help(driver.verify_connectivity)\n",
    "factory = CurriculumFactory(driver, 'curriculumdb')"
   ]
  },
  {
   "cell_type": "code",
   "execution_count": null,
   "id": "926b73d2",
   "metadata": {},
   "outputs": [],
   "source": [
    "help(factory.get_or_create_Element)"
   ]
  },
  {
   "cell_type": "code",
   "execution_count": 166,
   "id": "6b3a10b1",
   "metadata": {},
   "outputs": [],
   "source": [
    "moduledir = \"C:/Users/dmamartin/OneDrive - University of Dundee/Teaching/CurriculumDB/Modules/\"\n",
    "#moduledir = \"C:/Users/marti/Documents/LifeSciteaching/Curriculum/Modules/\""
   ]
  },
  {
   "cell_type": "code",
   "execution_count": 167,
   "id": "e9e92987",
   "metadata": {},
   "outputs": [
    {
     "name": "stdout",
     "output_type": "stream",
     "text": [
      "Looking in Stage 1\n",
      "Checking ARCHIVE\n",
      "Checking BS10001 Widening Access Programme Collective Module Specification QASv1.docx\n",
      "processing BS10001 Widening Access Programme Collective Module Specification QASv1.docx\n",
      "Checking BS11005 Numeracy, Chemistry and Physics for the Biological and Biomedical Sciences Spec QASv4.docx\n",
      "processing BS11005 Numeracy, Chemistry and Physics for the Biological and Biomedical Sciences Spec QASv4.docx\n",
      "Checking BS11006 The Poison Pen Specification QASv4.docx\n",
      "processing BS11006 The Poison Pen Specification QASv4.docx\n",
      "Checking BS11008 Core Skills in the Life Sciences 1A QASv3.docx\n",
      "processing BS11008 Core Skills in the Life Sciences 1A QASv3.docx\n",
      "Checking BS11009 The Building Blocks of Life QASv2.docx\n",
      "processing BS11009 The Building Blocks of Life QASv2.docx\n",
      "Checking BS12005 Science and Society Module Spec QASv4.docx\n",
      "processing BS12005 Science and Society Module Spec QASv4.docx\n",
      "Checking BS12008 Introduction to Scientific Enterprise Specification QASv4.docx\n",
      "processing BS12008 Introduction to Scientific Enterprise Specification QASv4.docx\n",
      "Checking BS12009 Fundamentals of Organic Chemistry Module Specification QASv1.docx\n",
      "processing BS12009 Fundamentals of Organic Chemistry Module Specification QASv1.docx\n",
      "Checking BS12010 Core Skills in the Life Sciences 1B Specification QASv2.docx\n",
      "processing BS12010 Core Skills in the Life Sciences 1B Specification QASv2.docx\n",
      "Checking BS12011 Building the Organism QASv3.docx\n",
      "processing BS12011 Building the Organism QASv3.docx\n",
      "Checking BS12701 Singapore Studies Module Specification QASv1.docx\n",
      "processing BS12701 Singapore Studies Module Specification QASv1.docx\n",
      "Checking BS12702 General Education Module Specification QASv1.docx\n",
      "processing BS12702 General Education Module Specification QASv1.docx\n",
      "Checking Withdrawn\n",
      "Looking in Stage 2\n",
      "Checking ARCHIVE\n",
      "Checking BS21001 Statistics & Experimental Design Module Specification Spec QASv4.docx\n",
      "processing BS21001 Statistics & Experimental Design Module Specification Spec QASv4.docx\n",
      "Checking BS21002 Cellular Communication QASv7.docx\n",
      "processing BS21002 Cellular Communication QASv7.docx\n",
      "Checking BS21008 Organic Chemistry for the Life Sciences Spec QASv7.docx\n",
      "processing BS21008 Organic Chemistry for the Life Sciences Spec QASv7.docx\n",
      "Checking BS21010 Introductory Programming for Life Sciences Spec QASv5.docx\n",
      "processing BS21010 Introductory Programming for Life Sciences Spec QASv5.docx\n",
      "Checking BS21011 Developing Scientific Enterprise Module Specification QASv4.docx\n",
      "processing BS21011 Developing Scientific Enterprise Module Specification QASv4.docx\n",
      "Checking BS21012 Core Skills in the Life Sciences 2A QASv2.docx\n",
      "processing BS21012 Core Skills in the Life Sciences 2A QASv2.docx\n",
      "Checking BS22001 Human Physiology & Pharmacology Spec QASv5.docx\n",
      "processing BS22001 Human Physiology & Pharmacology Spec QASv5.docx\n",
      "Checking BS22002 Biomolecular Mechanisms Specification QASv5.docx\n",
      "processing BS22002 Biomolecular Mechanisms Specification QASv5.docx\n",
      "Checking BS22003 Core Skills in the Life Sciences 2B QASv4.docx\n",
      "processing BS22003 Core Skills in the Life Sciences 2B QASv4.docx\n",
      "Checking Withdrawn\n",
      "Looking in Stage 3\n",
      "Checking ARCHIVE\n",
      "Checking BS30007 Life Sciences Placement Module Specification.docx\n",
      "processing BS30007 Life Sciences Placement Module Specification.docx\n",
      "Checking BS31003 Molecular Structure & Interactions Module Specification QASv6.docx\n",
      "processing BS31003 Molecular Structure & Interactions Module Specification QASv6.docx\n",
      "Checking BS31004 Biochemistry and Cell Biology Spec QASv8.docx\n",
      "processing BS31004 Biochemistry and Cell Biology Spec QASv8.docx\n",
      "Checking BS31005 Genetics Module Specification QASv6.docx\n",
      "processing BS31005 Genetics Module Specification QASv6.docx\n",
      "Checking BS31006 Gene Regulation & Expression QASv6.docx\n",
      "processing BS31006 Gene Regulation & Expression QASv6.docx\n",
      "Checking BS31013 Biomembranes Module Specification QASv5.docx\n",
      "processing BS31013 Biomembranes Module Specification QASv5.docx\n",
      "Checking BS31016 Practical Techniques in Biomedical Sciences Spec QASv6.docx\n",
      "processing BS31016 Practical Techniques in Biomedical Sciences Spec QASv6.docx\n",
      "Checking BS31019 Regulatory Physiology and Pharmacology Module Specification QASv7.docx\n",
      "processing BS31019 Regulatory Physiology and Pharmacology Module Specification QASv7.docx\n",
      "Checking BS31020 Experimental Cell Culture Mod Spec QASv5.docx\n",
      "processing BS31020 Experimental Cell Culture Mod Spec QASv5.docx\n",
      "Checking BS31701 Human Ageing Module Specification QASv1.docx\n",
      "processing BS31701 Human Ageing Module Specification QASv1.docx\n",
      "Checking BS31702 Human Neuroanatomy Module Specification QASv1.docx\n",
      "processing BS31702 Human Neuroanatomy Module Specification QASv1.docx\n",
      "Checking BS32003 Drug Discovery and Development QASv6.docx\n",
      "processing BS32003 Drug Discovery and Development QASv6.docx\n",
      "Checking BS32004 Molecular Biology QASv7.docx\n",
      "processing BS32004 Molecular Biology QASv7.docx\n",
      "Checking BS32005 Cell and Developmental Biology QASv5.docx\n",
      "processing BS32005 Cell and Developmental Biology QASv5.docx\n",
      "Checking BS32006 Cell Signalling QASv6.docx\n",
      "processing BS32006 Cell Signalling QASv6.docx\n",
      "Checking BS32007 Organic Synthesis Specification QASv4.docx\n",
      "processing BS32007 Organic Synthesis Specification QASv4.docx\n",
      "Checking BS32008 Plant Science Specification QASv3.docx\n",
      "processing BS32008 Plant Science Specification QASv3.docx\n",
      "Checking BS32009 Immunology Specification QASv4.docx\n",
      "processing BS32009 Immunology Specification QASv4.docx\n",
      "Checking BS32010 Bioinformatics QASv4.docx\n",
      "processing BS32010 Bioinformatics QASv4.docx\n",
      "Checking BS32011 Practical Project A Module Spec QASv7.docx\n",
      "processing BS32011 Practical Project A Module Spec QASv7.docx\n",
      "Checking BS32012 Practical Project B Module Spec QASv7.docx\n",
      "processing BS32012 Practical Project B Module Spec QASv7.docx\n",
      "Checking BS32020 Human Epithelial Biology QASv3.docx\n",
      "processing BS32020 Human Epithelial Biology QASv3.docx\n",
      "Checking BS32021 Quantitative Pharmacology Module Spec QASv4.docx\n",
      "processing BS32021 Quantitative Pharmacology Module Spec QASv4.docx\n",
      "Checking BS32024 Behavioural Neuroscience and Pharmacology QASv6.docx\n",
      "processing BS32024 Behavioural Neuroscience and Pharmacology QASv6.docx\n",
      "Checking BS32026 Sensory and Motor Neuroscience QASv5.docx\n",
      "processing BS32026 Sensory and Motor Neuroscience QASv5.docx\n",
      "Checking BS32028 Molecular Pharmacology QASv3.docx\n",
      "processing BS32028 Molecular Pharmacology QASv3.docx\n",
      "Checking BS32029 Cell Proliferation Module Specification QASv2.docx\n",
      "processing BS32029 Cell Proliferation Module Specification QASv2.docx\n",
      "Checking BS32030 Data and Statistical Analysis Mod Spec QASv6.docx\n",
      "processing BS32030 Data and Statistical Analysis Mod Spec QASv6.docx\n",
      "Checking BS32031 Bioinformatics Research Skills 1 Specification QASv2.docx\n",
      "processing BS32031 Bioinformatics Research Skills 1 Specification QASv2.docx\n",
      "Checking BS32032 Science Communication Module Specification QASv4.docx\n",
      "processing BS32032 Science Communication Module Specification QASv4.docx\n",
      "Checking BS32033 Epidemiology and Health Informatics QASv1.docx\n",
      "processing BS32033 Epidemiology and Health Informatics QASv1.docx\n",
      "Checking BS32034 Introduction to Biobusiness Module Specification QASv1.docx\n",
      "processing BS32034 Introduction to Biobusiness Module Specification QASv1.docx\n",
      "Checking BS32035 Project Management and Bioenterprise QASv1.docx\n",
      "processing BS32035 Project Management and Bioenterprise QASv1.docx\n",
      "Checking BS32701 Fundamental Pharmacology Module Specification QASv1.docx\n",
      "processing BS32701 Fundamental Pharmacology Module Specification QASv1.docx\n",
      "Checking BS32702 Human Physiology Module Specification QASv1.docx\n",
      "processing BS32702 Human Physiology Module Specification QASv1.docx\n",
      "Checking BS32703 Human Physiology Module Specification QASv1.docx\n",
      "processing BS32703 Human Physiology Module Specification QASv1.docx\n",
      "Checking BS32704 Neuronal Development & Diseases Module Specification QASv1.docx\n",
      "processing BS32704 Neuronal Development & Diseases Module Specification QASv1.docx\n",
      "Checking BS32705 Neuropharmacology Module Specification QASv1.docx\n",
      "processing BS32705 Neuropharmacology Module Specification QASv1.docx\n",
      "Checking BS32706 Molecular Basis of Human Disease Module Specification QASv1.docx\n",
      "processing BS32706 Molecular Basis of Human Disease Module Specification QASv1.docx\n",
      "Checking BS32707 Molecular Microbiology in Human Disease Module Specification QASv1.docx\n",
      "processing BS32707 Molecular Microbiology in Human Disease Module Specification QASv1.docx\n"
     ]
    },
    {
     "name": "stdout",
     "output_type": "stream",
     "text": [
      "Checking BS32708 Molecular Biophysics Module Specification QASv1.docx\n",
      "processing BS32708 Molecular Biophysics Module Specification QASv1.docx\n",
      "Looking in Stage 4\n",
      "Checking ARCHIVE\n",
      "Checking BS41004 Research Project Biological Sciences Module Specification QASv4.docx\n",
      "processing BS41004 Research Project Biological Sciences Module Specification QASv4.docx\n",
      "Checking BS41005 Research Project Biological Sciences Programme Specification QASv3.docx\n",
      "processing BS41005 Research Project Biological Sciences Programme Specification QASv3.docx\n",
      "Checking BS41006 Research Skill in Biomedical Sciences QASv5.docx\n",
      "processing BS41006 Research Skill in Biomedical Sciences QASv5.docx\n",
      "Checking BS41007 Research Project Biomedical Sciences Module Specification QASv6.docx\n",
      "processing BS41007 Research Project Biomedical Sciences Module Specification QASv6.docx\n",
      "Checking BS41009 Internship Work Placement QASv1.docx\n",
      "processing BS41009 Internship Work Placement QASv1.docx\n",
      "Checking BS41701 Honours Project in Life Sciences Module Specification QASv1.docx\n",
      "processing BS41701 Honours Project in Life Sciences Module Specification QASv1.docx\n",
      "Checking BS41702 System Neurobiology Module Specification QASv1.docx\n",
      "processing BS41702 System Neurobiology Module Specification QASv1.docx\n",
      "Checking BS41703 Functional Genomics Module Specification QASv1.docx\n",
      "processing BS41703 Functional Genomics Module Specification QASv1.docx\n",
      "Checking BS41704 Epigenetics & Chromatin Biology Module Specification QASv1.docx\n",
      "processing BS41704 Epigenetics & Chromatin Biology Module Specification QASv1.docx\n",
      "Checking BS41705 Pharmacogenetics & Drug Responses Module Specification QASv1.docx\n",
      "processing BS41705 Pharmacogenetics & Drug Responses Module Specification QASv1.docx\n",
      "Checking BS41706 Drug Discovery & Clinical Trials Module Specification QASv1.docx\n",
      "processing BS41706 Drug Discovery & Clinical Trials Module Specification QASv1.docx\n",
      "Checking BS42003 Advanced Bioinformatics QASv6.docx\n",
      "processing BS42003 Advanced Bioinformatics QASv6.docx\n",
      "Checking BS42004 Advanced Modern Drug Discovery Module Specification QASv2.docx\n",
      "processing BS42004 Advanced Modern Drug Discovery Module Specification QASv2.docx\n",
      "Checking BS42005 Advanced Plant Sciences QASv5.docx\n",
      "processing BS42005 Advanced Plant Sciences QASv5.docx\n",
      "Checking BS42006 Advanced Immunology QASv5.docx\n",
      "processing BS42006 Advanced Immunology QASv5.docx\n",
      "Checking BS42007 Cancer Biology QASv5.docx\n",
      "processing BS42007 Cancer Biology QASv5.docx\n",
      "Checking BS42008 Stem Cells in Development & Disease Module Specification QASv3.docx\n",
      "processing BS42008 Stem Cells in Development & Disease Module Specification QASv3.docx\n",
      "Checking BS42009 Advanced Molecular Microbiology QASv5.docx\n",
      "processing BS42009 Advanced Molecular Microbiology QASv5.docx\n",
      "Checking BS42010 Advanced Gene Regulation and Expression QASv5.docx\n",
      "processing BS42010 Advanced Gene Regulation and Expression QASv5.docx\n",
      "Checking BS42011 Biological Chemistry Specification QASv4.docx\n",
      "processing BS42011 Biological Chemistry Specification QASv4.docx\n",
      "Checking BS42012 Parasitology Module Spec QASv4.docx\n",
      "processing BS42012 Parasitology Module Spec QASv4.docx\n",
      "Checking BS42013 Advanced Cell Signalling QASv5.docx\n",
      "processing BS42013 Advanced Cell Signalling QASv5.docx\n",
      "Checking BS42014 Nutrients and Metabolic Disease QASv7.docx\n",
      "processing BS42014 Nutrients and Metabolic Disease QASv7.docx\n",
      "Checking BS42017 Translational Psychiatry & Neurology Module Specification QASv4.docx\n",
      "processing BS42017 Translational Psychiatry & Neurology Module Specification QASv4.docx\n",
      "Checking BS42018 Mapping Memories in the Brain QASv6.docx\n",
      "processing BS42018 Mapping Memories in the Brain QASv6.docx\n",
      "Checking BS42019 Cardiovascular Pharmacology Modu Spec QASv5.docx\n",
      "processing BS42019 Cardiovascular Pharmacology Modu Spec QASv5.docx\n",
      "Checking BS42021 Heart & Circulation Module Specification QASv6.docx\n",
      "processing BS42021 Heart & Circulation Module Specification QASv6.docx\n",
      "Checking BS42023 Applied Neuroanatomy & Neurodegenerative Disorders Module Specification QASv2.docx\n",
      "processing BS42023 Applied Neuroanatomy & Neurodegenerative Disorders Module Specification QASv2.docx\n",
      "Checking BS42025 The Conscious Brain QASv5.docx\n",
      "processing BS42025 The Conscious Brain QASv5.docx\n",
      "Checking BS42027 Cancer Pharmacology & Treatment Specification QASv5.docx\n",
      "processing BS42027 Cancer Pharmacology & Treatment Specification QASv5.docx\n",
      "Checking BS42028 Pharmacology of Treatment of Metabolic Disease Module Specification QASv2.docx\n",
      "processing BS42028 Pharmacology of Treatment of Metabolic Disease Module Specification QASv2.docx\n",
      "Checking BS42701 Extreme Physiology Module Specification QASv1.docx\n",
      "processing BS42701 Extreme Physiology Module Specification QASv1.docx\n",
      "Checking BS42702 Functional Ageing Module Specification QASv1.docx\n",
      "processing BS42702 Functional Ageing Module Specification QASv1.docx\n",
      "Checking BS42703 Genetic Medicine in the Post-Genomic Era Module Specification QASv1.docx\n",
      "processing BS42703 Genetic Medicine in the Post-Genomic Era Module Specification QASv1.docx\n",
      "Checking BS42704 Advanced Cell Biology Module Specification QASv1.docx\n",
      "processing BS42704 Advanced Cell Biology Module Specification QASv1.docx\n",
      "Checking Withdrawn\n",
      "Looking in Stage 5\n",
      "Checking BS51007 Cell Biology and Disease Module Specification QASv3.docx\n",
      "processing BS51007 Cell Biology and Disease Module Specification QASv3.docx\n",
      "Checking BS51008 Molecular Basis of Disease QASv2.docx\n",
      "processing BS51008 Molecular Basis of Disease QASv2.docx\n",
      "Checking BS51009 Scientific Method and Skills Module Specification QASv4.docx\n",
      "processing BS51009 Scientific Method and Skills Module Specification QASv4.docx\n",
      "Checking BS51010 Scientific and Health Landscapes Module Spec QASv3.docx\n",
      "processing BS51010 Scientific and Health Landscapes Module Spec QASv3.docx\n",
      "Checking BS51011 Writing and Communication Module Spec QASv4.docx\n",
      "processing BS51011 Writing and Communication Module Spec QASv4.docx\n",
      "Checking BS51012 Tools Software and Databases Module Spec QASv3.docx\n",
      "processing BS51012 Tools Software and Databases Module Spec QASv3.docx\n",
      "Checking BS52007 Advanced Techology Platfrorms QASv3.docx\n",
      "processing BS52007 Advanced Techology Platfrorms QASv3.docx\n",
      "Checking BS52008 MSc Project Proposal and Associated Skills Specification QASv3.docx\n",
      "processing BS52008 MSc Project Proposal and Associated Skills Specification QASv3.docx\n",
      "Checking BS52009 Therapeutics Specification QASv2.docx\n",
      "processing BS52009 Therapeutics Specification QASv2.docx\n",
      "Checking BS52010 Communication and Marketing Strategy QASv3.docx\n",
      "processing BS52010 Communication and Marketing Strategy QASv3.docx\n",
      "Checking BS52011 Sci & Health Comm Industries and Contemporary Issues Module Spec QASv3.docx\n",
      "processing BS52011 Sci & Health Comm Industries and Contemporary Issues Module Spec QASv3.docx\n",
      "Checking BS52012 Digital and Visual Communication QASv3.docx\n",
      "processing BS52012 Digital and Visual Communication QASv3.docx\n",
      "Checking BS52013 Biomolecular Modelling Module Spec QASv1.docx\n",
      "processing BS52013 Biomolecular Modelling Module Spec QASv1.docx\n",
      "Checking BS53003 MSc Biobusiness Research Project Spec QASv4.docx\n",
      "processing BS53003 MSc Biobusiness Research Project Spec QASv4.docx\n",
      "Checking BS53004 MSc Research Project QASv4.docx\n",
      "processing BS53004 MSc Research Project QASv4.docx\n",
      "Checking BS53005 Science and Health Communications Masters Project Module Spec QASv3.docx\n",
      "processing BS53005 Science and Health Communications Masters Project Module Spec QASv3.docx\n",
      "Checking BS53006 Masters Placement Module Spec QASv2.docx\n",
      "processing BS53006 Masters Placement Module Spec QASv2.docx\n",
      "Checking BS53007 MSc Quantitative Biology Research Project QASv1.docx\n",
      "processing BS53007 MSc Quantitative Biology Research Project QASv1.docx\n"
     ]
    }
   ],
   "source": [
    "modules = {}\n",
    "for stage in os.listdir(moduledir):\n",
    "    print(f'Looking in {stage}')\n",
    "    for file in os.listdir(os.path.join(moduledir, stage)):\n",
    "        print(f'Checking {file}')\n",
    "        if file.endswith('.docx'):\n",
    "            print(f'processing {file}')\n",
    "            doc=docx.Document(os.path.join(moduledir, stage, file))\n",
    "            structure ={}\n",
    "            for t in doc.tables:\n",
    "                for r in range(len(t.rows)):\n",
    "                    structure[t.row_cells(r)[0].text.split()[0]] =t.row_cells(r)[1].text\n",
    "            modules[structure['1.2']]=structure"
   ]
  },
  {
   "cell_type": "code",
   "execution_count": 5,
   "id": "aa65577a",
   "metadata": {},
   "outputs": [
    {
     "name": "stdout",
     "output_type": "stream",
     "text": [
      "{'code': 'Module code', 'name': 'Module name', 'credits': 'Credit weight', 'scqflevel': 'SCQF level', 'shelevel': 'SHE level', 'semester': '1, 2 or both'} {'block': 'Teaching block: C or D', 'startyear': 'First academic year', 'endyear': 'Last academic year'}\n"
     ]
    }
   ],
   "source": [
    "print(Module.requiredParams, Module.optionalParams)\n"
   ]
  },
  {
   "cell_type": "code",
   "execution_count": 52,
   "id": "ddfa345f",
   "metadata": {},
   "outputs": [
    {
     "name": "stdout",
     "output_type": "stream",
     "text": [
      "BS10001 1.14 \n",
      "BS11008 1.14 \n",
      "BS11009 1.14 \n",
      "BS12009 1.14 \n",
      "BS12010 1.14 \n",
      "BS21002 1.14 \n",
      "BS21012 1.14 \n",
      "BS30007 1.14 \n",
      "BS32034 1.14 \n",
      "BS41009 1.14 \n",
      "BS42028 1.14 \n",
      "BS51007 1.14 \n",
      "BS51008 1.14 \n",
      "BS51009 1.14 \n",
      "BS51010 1.14 \n",
      "BS51011 1.14 \n",
      "BS51012 1.14  \n",
      "BS52007 1.14 \n",
      "BS52009 1.14 \n",
      "BS52010 1.14 \n",
      "BS52011 1.14 \n",
      "BS52012 1.14 \n",
      "BS52013 1.14 Once per academic year in semester 2\n",
      "BS53003 1.14 \n",
      "BS53004 1.14 \n",
      "BS53005 1.14  semester 3 (summer) \n",
      "BS53006 1.14  semester 3 (summer) \n",
      "BS53007 1.14 \n"
     ]
    }
   ],
   "source": [
    "newmod = modules['BS32031']\n",
    "modobj ={}\n",
    "\n",
    "scqf = re.compile(r'SCQF\\D+(\\d+)\\D+(\\d+)\\D')\n",
    "delivery = re.compile(r'Semester (\\d)')\n",
    "#for m in modules:\n",
    "#    print(m)\n",
    "#for m in ['BS32031']:\n",
    "for m in modules:\n",
    "    try:\n",
    "        newmod=modules[m]\n",
    "    \n",
    "        match=scqf.search(newmod['1.3'])\n",
    "        scqflevel=0\n",
    "        shelevel=0\n",
    "        credits=0\n",
    "        if match:\n",
    "            scqflevel = int(match.group(1))\n",
    "            shelevel = scqflevel - 6\n",
    "            credits = int(match.group(2))\n",
    "        else: \n",
    "            shelevel = int(m[2])\n",
    "            scqflevel = shelevel +6\n",
    "            print(m,\"1.3\", newmod['1.3'])\n",
    "        match=delivery.search(newmod['1.14'])\n",
    "        semester=0\n",
    "        if match:\n",
    "            semester = int(match.group(1))\n",
    "        else:\n",
    "            print(m,\"1.14\",newmod['1.14'])\n",
    "            semester = int(m[3])\n",
    "        if credits and scqflevel and shelevel and semester:\n",
    "            newmodparams ={'code':newmod['1.2'], 'name':newmod['1.1'], 'semester':semester, \n",
    "                           'credits': credits, 'scqflevel':scqflevel, 'shelevel':shelevel}\n",
    "            modobj[m]=factory.get_or_create_Element('Module', **newmodparams)\n",
    "    except Exception as e:\n",
    "        print(newmodparams,e)\n",
    "        "
   ]
  },
  {
   "cell_type": "code",
   "execution_count": 162,
   "id": "582ed72c",
   "metadata": {},
   "outputs": [
    {
     "name": "stdout",
     "output_type": "stream",
     "text": [
      "BS11005: Prerequisites: After completion of the skills audit prior to matriculation, a decision on whether this module is to be taken by the student will be made\n",
      "BS11005: Corequisites: For students enrolled for Biological and Biomedical Sciences degrees, the following are all co-requisites:\n",
      "   BS11009 (knowledge based)\n",
      "   BS11008 (Lab and skills-based)\n",
      "\n",
      "BS11008: Corequisites: For students enrolled for Biological Sciences and Biomedical Sciences degrees, the following module is a co-requisites:\n",
      "• BS11009 (Knowledge based)\n",
      "BS12010: Corequisites: For students enrolled for Biological Sciences and Biomedical Sciences degrees, the following modules are all co-requisites:\n",
      "• BS12001 (Knowledge based)\n",
      "• BS12002 (Knowledge based)\n",
      "BS12701: Prerequisites: Successful completion of JPD Core curriculum to date\n",
      "BS12702: Prerequisites: Successful completion of JPD Core curriculum to date\n",
      "BS21001: Prerequisites: BS11001, BS11002, BS11008, BS12001, BS12002, BS12010 or Level 2 direct entry requirements\n",
      "\n",
      "BS21002: Prerequisites: BS11009, BS11008, BS12011,\n",
      "BS12010 or Level 2 direct entry requirements\n",
      "BS21008: Prerequisites: BS11009, BS11008, BS12011, BS12010 or their equivalent.  Prerequisite module BS12009.\n",
      "BS21008: Antirequisites: BS12006\n",
      "BS21010: Antirequisites: EG21007\n",
      "BS21012: Corequisites: • BS21001 (Knowledge based)\n",
      "• BS21002 (Knowledge based)\n",
      "BS22001: Prerequisites: BS11001, BS11002, BS11003, BS11004, BS12001,\n",
      "BS12002 BS12003, BS12004 or Level 2 direct entry requirements\n",
      "\n",
      "BS22001: Corequisites: BS21001, BS21002, BS21003, BS22002 and BS22003\n",
      "BS22002: Prerequisites: BS11001, BS11002, BS11008, BS12001, BS12002, BS12010 or have experience of basic Life Sciences laboratory techniques\n",
      "\n",
      "BS22003: Prerequisites: BS11001, BS11002,BS11008, BS12001, BS12002, BS12010 or have experience of basic Life Sciences laboratory techniques\n",
      "\n",
      "BS22003: Corequisites: BS22001\n",
      "BS30007: Prerequisites: Must have successfully completed 360 SCQF credits, including 120 at level 9, in any of the following programmes:\n",
      "BSc (Hons) Biological Sciences\n",
      "BSc (Hons) Biological Sciences (Bioinformatics)\n",
      "BSc (Hons) Biological Sciences (Plant Sciences)\n",
      "BSc (Hons) Biochemistry\n",
      "BSc (Hons) Microbiology\n",
      "BSc (Hons) Biological Chemistry and Drug Discovery\n",
      "BSc (Hons) Biomedical Sciences\n",
      "BSc (Hons) Neuroscience\n",
      "BSc (Hons) Pharmacology\n",
      "BS31003: Prerequisites: Successful completion of Level 1&2 Life Sciences Core Curriculum or similar experience of basic Life Science education.\n",
      "BS31003: Corequisites: Completion of three additional (15 credit) Level 3\n",
      "modules in Semester 1 two of which must be from the Biological Sciences Stream\n",
      "In conjunction with an appropriate combination of Level 3 modules from Semester 1 which are relevant to the students’ chosen degree programme.\n",
      "\n",
      "BS31004: Prerequisites: Successful completion of Level 2 Biological/Biomedical Sciences or Equivalent\n",
      "BS31005: Prerequisites: Successful completion of Level 1&2 Life Sciences Core Curriculum or similar experience of basic Life Science education.\n",
      "BS31006: Prerequisites: Successful completion of Level 1 & 2 Life Sciences Core Curriculum or similar experience of basic Life Sciences education.\n",
      "BS31006: Corequisites: Completion of three additional (15 credit) Level 3 modules in Semester 1 which are relevant to the students' chosen degree programme.\n",
      "BS31013: Prerequisites: Successful completion of Level 1&2 Life Sciences Core Curriculum or similar experience of basic Life Sciences Education\n",
      "BS31016: Prerequisites: Successful completion of Level 1 & 2 Life Sciences Core Curriculum or similar experience of basic Life Science education.\n",
      "This module will only be available to Level 3 Biomedical Stream Students.\n",
      "\n",
      "BS31019: Prerequisites: Students will be expected have completed the following core modules at Level 2 or have completed modules of similar content from partner institutions from which exchange students are joining the Dundee taught module (BS21001, Statistics and Experimental Design; BS21002, The Gene and the Cell; BS21003, Laboratory and Research Skills 2A; BS21004, Laboratory and Research Skills 2B; BS22001, Biomedical Sciences; BS22002, Biological Sciences; BS22003, Laboratory and Research Skills).\n",
      "BS31020: Prerequisites: Successful completion of Level 1 & 2 Biological and Biomedical Sciences Core Curriculum or similar experience of basic Life Science education.\n",
      "This module will only be available to Level 3 Students from the Biomedical stream.\n",
      "\n",
      "BS31701: Prerequisites: Successful completion of JPD Core curriculum to date\n",
      "BS31702: Prerequisites: Successful completion of JPD Core curriculum to date\n",
      "BS32003: Prerequisites: Successful completion of Level 1&2 Life Sciences Core Curriculum and semester 1 of the Level 3 Biological Sciences stream or similar experience of basic Life Sciences Education.\n",
      "BS32003: Corequisites: BS32007 Organic Synthesis and two additional (15 credit) Level 3 modules in Semester 2, one of which must be from the Biological Sciences Stream.\n",
      "BS32004: Prerequisites: Successful completion of Level 1&2 Life Sciences Core Curriculum or similar experience of basic Life Science education. Study of 60 Level 3 Credits in Semester 1.\n",
      "BS32005: Prerequisites: Successful completion of Level 1&2 and Level 3 Sem 1 Life Sciences Core modules BS31004 and/or BS31006 or similar experience of basic Life Science education.\n",
      "BS32006: Prerequisites: Successful completion of Level 1&2 Biological and Biomedical Core Curriculum or similar experience of basic Life Science education. Study of 60 Level 3 Credits in Semester 1.\n",
      "BS32007: Prerequisites: Successful completion of 120 credits at Level 2.\n",
      "BS32008: Prerequisites: Successful completion of Level 1&2 Biological and Biomedical Sciences Core Curriculum or similar experience of basic Life Science education. Study of 60 Level 3 Credits in Semester 1.\n",
      "BS32009: Prerequisites: Successful completion of Level 1&2 Biological and Biomedical Sciences Core Curriculum or similar experience of basic Life Science education. Study of 60 Level 3 Credits or equivalent in Semester 1.\n",
      "BS32010: Prerequisites: Successful completion of Level 1 and 2 Biological and Biomedical Sciences core curriculum or similar experience of Life Science education.\n",
      "BS32011: Prerequisites: Successful completion of Level 1&2 Biological and Biomedical Sciences Core Curriculum or similar experience of basic Life Science education. Study of 60 Level 3 Credits in Semester 1 or an appropriately mapped learning experience.\n",
      "BS32011: Corequisites: This module may be matched to a Semester 2 specialist theory module.\n",
      "BS32012: Prerequisites: Successful completion of Level 1&2 Biological and Biomedical Sciences Core Curriculum or similar experience of basic Life Science education. Study of 60 Level 3 Credits in Semester 1 or an appropriately mapped learning experience.\n",
      "BS32012: Corequisites: This module may be matched to a Semester 2 specialist theory module.\n",
      "BS32020: Prerequisites: Successful completion of Level 1&2 Biological and Biomedical Sciences Core Curriculum or similar experience of basic Life Sciences Education\n",
      "BS32021: Prerequisites: Successful completion of Level 1 & 2 Biological and Biomedical Sciences Core Curriculum or similar experience of basic Life Sciences Education\n",
      "BS32024: Prerequisites: Successful completion of Level 1&2 Biological and Biomedical Sciences Core Curriculum or similar experience of basic Life Sciences Education\n",
      "BS32026: Prerequisites: Successful completion of Level 1&2 Biological and Biomedical Sciences Core Curriculum or similar experience of basic Life Sciences Education\n",
      "BS32028: Prerequisites: Successful completion of Level 1&2 Biological and Biomedical Sciences Core Curriculum or similar experience of basic Life Sciences Education\n",
      "BS32029: Prerequisites: Successful completion of Level 1&2 Biological and Biomedical Sciences Core Curriculum or similar experience of basic Life Sciences Education \n",
      "BS32030: Prerequisites: Successful completion of Level 1&2 Biological and Biomedical Sciences Core Curriculum or similar experience of basic Life Science education.\n",
      "BS32031: Antirequisites:  BS21010, EN21007\n",
      "BS32032: Prerequisites: Successful completion of Level 1&2 Biological and Biomedical Sciences Core Curriculum or similar experience of basic Life Science education. Study of 60 Level 3 Credits in Semester 1.\n",
      "BS32032: Antirequisites: Prior completion of Level 4 Science Communication Honours project in BS41004 or BS41007\n",
      "BS32033: Prerequisites: Successful completion of Level 1&2 Biological and Biomedical Sciences Core Curriculum or similar experience of basic Life Sciences Education\n",
      "BS32035: Prerequisites: Successful completion of year 2 at HAN University of Applied Sciences  Arnhem and Nijmegen\n",
      "BS32701: Prerequisites: Successful completion of JPD Core curriculum to date\n",
      "BS32702: Prerequisites: Successful completion of JPD Core curriculum to date\n",
      "BS32703: Prerequisites: Successful completion of JPD Core curriculum to date\n",
      "BS32703: Antirequisites: LSM3212\n",
      "BS32704: Prerequisites: Successful completion of JPD Core curriculum to date\n",
      "BS32704: Antirequisites: LSM3213\n",
      "BS32705: Prerequisites: Successful completion of JPD Core curriculum to date\n",
      "BS32705: Antirequisites: LSM3221\n",
      "BS32706: Prerequisites: Successful completion of JPD Core curriculum to date\n",
      "BS32707: Prerequisites: Successful completion of JPD Core curriculum to date\n",
      "BS32708: Prerequisites: Successful completion of JPD Core curriculum to date\n",
      "BS41004: Prerequisites: Successful completion of 120 credits at Level 3 or through an intercalated BMSc programme.\n",
      "BS41004: Corequisites: Research Skills Module BS41005\n",
      "BS41005: Prerequisites: Successful completion of 120 credits at Level 3 or through an intercalated BMSc programme\n",
      "BS41005: Corequisites: BS41004 Research Project Biological Sciences\n",
      "BS41006: Prerequisites: Successful completion of 120 credits at Level 3 or through an intercalated BMSc programme\n",
      "BS41006: Corequisites: BS41007 Research Project Biomedical Sciences\n",
      "BS41007: Prerequisites: Successful completion of 120 credits at Level 3 or through an intercalated BMSc programme.\n",
      "BS41007: Corequisites: Research Skills Module BS41006\n",
      "BS41009: Prerequisites: Successful completion of Level 3\n",
      "BS41701: Prerequisites: Successful completion of JPD Core curriculum to date\n",
      "BS41702: Prerequisites: Successful completion of JPD Core curriculum to date and LSM3216\n",
      "BS41703: Prerequisites: Successful completion of JPD Core curriculum to date\n",
      "BS41704: Prerequisites: Successful completion of JPD Core curriculum to date\n",
      "BS41705: Prerequisites: Successful completion of JPD Core curriculum to date and either LSM3211 or LSM3212\n",
      "BS41706: Prerequisites: Successful completion of JPD Core curriculum to date and LSM3216\n",
      "BS42003: Prerequisites: Successful completion of 120 credits at level 3. Students from other Schools may be eligible to take this module subject to agreement.\n",
      "BS42004: Prerequisites: Successful completion of 120 credits at Level 3. Successful completion of BS32003 Drug Discovery and Development, and BS32007 Organic Chemistry\n",
      "BS42005: Prerequisites: Successful completion of 120 credits at level 3.\n",
      "BS42006: Prerequisites: Successful completion of 120 credits at Level 3 including BS32009 Immunology, and BS32006 Cell Signalling or BS32028 Molecular Pharmacology.\n",
      "BS42007: Prerequisites: Successful completion of 120 credits at Level 3 Modules including BS32029, Cell Proliferation and Survival Mechanisms underlying disease in combination with one of BS31006 Gene Regulation and Expression, BS31004 Biochemistry and Cell Biology, BS31005 Genetics, or BS31020 Experimental Cell Culture \n",
      "BS42008: Prerequisites: Successful completion of 120 credits at Level 3.\n",
      "BS42010: Prerequisites: Successful completion of 120 credits at Level 3. Three Level 3 Modules:  BS31004 Biochemistry & Cell Biology,  BS31005 Genetics,  BS31006  Gene Regulation & Expression\n",
      "BS42011: Prerequisites: Successful completion of 120 credits at Level 3 including BS32007 Organic Synthesis.\n",
      "BS42012: Prerequisites: Successful completion of 120 credits at Level 3.\n",
      "BS42013: Prerequisites: Successful completion of 120 credits at Level 3, including Cell Signalling (BS32006)\n",
      "BS42014: Prerequisites: Students will be expected have completed the following core modules at Level 2 or have completed modules of similar content from partner institutions if part of an exchange programme:  BS21001 (The Evolution of Modern Life); BS21002 (The Gene and the Cell); BS21003 (Laboratory and Research Skills 2A); BS21004 (Laboratory and Research Skills 2B); BS22001 (Biomedical Sciences); BS22002 (Biological Sciences); BS22003 (Laboratory and Research Skills).  At Level 3 students will have been expected to have completed BS31013 (Biomembranes); BS31016 (Practical Techniques in Biomedical Sciences) and BS31019 (Regulatory Physiology & Pharmacology).  Students who may have completed BS31003 (Biochemistry and Cell Biology) and BS31006 (Gene Regulation and Expression) instead of the indicated Level 3 modules would also be considered for this Level 4 module.\n",
      "BS42017: Prerequisites: Successful completion of 120 credits at level 3.\n",
      "BS42018: Prerequisites: Successful completion of 120 credits at Level 3 which ideally should include BS32024 Neuropsychopharmacology.\n",
      "BS42019: Prerequisites: Successful completion of 120 credits at Level 3 and completion of BS42021 Heart and Circulation\n",
      "BS42019: Corequisites: BS42021 in Block C\n",
      "BS42021: Prerequisites: Successful completion of 120 credits at Level 3\n",
      "BS42023: Prerequisites: Successful completion of 120 credits at Level 3.\n",
      "BS42025: Prerequisites: Successful completion of 120 credits at Level 3\n",
      "BS42027: Prerequisites: Successful completion of BS42007 120 credits at Level 3 Modules including BS32029, Cell Proliferation and Survival Mechanisms underlying disease in combination with one of BS31006 Gene Regulation and Expression, BS31004 Biochemistry and Cell Biology, BS31020 Experimental Cell Culture or BS31005 Genetics.\n",
      "BS42027: Corequisites: BS42007 in Block C\n",
      "BS42028: Prerequisites: Successful completion of Levels 1, 2 and 3 Life Sciences programmes. Successful completion of level 4 Semester 1. \n",
      "BS42028: Corequisites: BS42014 in Block D\n",
      "BS42701: Prerequisites: Successful completion of JPD Core curriculum to date and LSM3212 and LSM3214\n",
      "BS42702: Prerequisites: Successful completion of JPD Core curriculum to date and either LSM3217 or LSM3224\n",
      "BS42703: Prerequisites: Successful completion of JPD Core curriculum to date\n",
      "BS42704: Prerequisites: Successful completion of JPD Core curriculum to date\n",
      "BS51007: Prerequisites: Successful completion of the relevant semester 1 MSc modules totalling 60 credits\n",
      "BS51007: Corequisites: BS51009 Scientific Methods and Skills and either BS51008 The Molecular Basis of Disease: Genetics, Epigenetics and Genomics or\n",
      "BU52033 Leadership and Decision Making, or\n",
      "BU52031 Strategic Management & Organisational Analysis, or\n",
      "BU51017 Customer Experience Design, or \n",
      "BU51015 Principles of Marketing as Creative Practice\n",
      "BS51008: Prerequisites: Successful completion of the relevant semester 1 MSc modules totalling 60 credits\n",
      "BS51008: Corequisites: BS510xx Scientific Method and Skills and either BS510xx Cell Biology and Diseases, or\n",
      "BU52033 Leadership and Decision Making, or\n",
      "BU52031 Strategic Management & Organisational Analysis, or\n",
      "BU51017 Customer Experience Design, or \n",
      "BU51015 Principles of Marketing as Creative Practice\n",
      "BS51009: Prerequisites:  Entry onto relevant Masters course\n",
      "BS51009: Corequisites: Co-requisites are explained in the programme specifications for the MSc Biomedical and Molecular Sciences (with Business/Marketing/Management/Entrepreneurship) or MSc Applied Neuroscience or MFA Art, Science and Visual Thinking\n",
      "BS51010: Prerequisites: Entry onto relevant Masters course\n",
      "BS51011: Prerequisites: Entry onto relevant Masters course\n",
      "\n",
      "BS51012: Prerequisites: Entry onto relevant Masters course\n",
      "BS52007: Prerequisites: Successful completion of the relevant semester 1 MSc modules totalling 60 credits\n",
      "BS52007: Corequisites: BS52008 Project Proposal and Associated Skills and \n",
      "and BS52009 Therapeutics\n",
      "BS52008: Prerequisites: Successful completion of the relevant semester 1 MSc modules totalling 60 credits\n",
      "BS52008: Corequisites: Co-requisites are explained in the Schedule of modules (section 2.10) of the Programme Specifications for the MSc Biomedical and Molecular Sciences (with Business/Marketing/Management/Entrepreneurship).\n",
      "BS52009: Prerequisites: Successful completion of the relevant semester 1 MSc modules totalling 60 credits\n",
      "BS52009: Corequisites: BS52008 Project Proposal and Associated Skills and \n",
      "either BS52007 Advanced Technology Platforms, or\n",
      "BU51016 International Business Strategy, or\n",
      "BU51024 Managing People and Organisations, or\n",
      "BU52025 Digital Marketing, or\n",
      "BU52040 Practicing Entrepreneurship, or\n",
      "BU52041 Understanding Entrepreneurship in a Global Context\n",
      "BS52010: Prerequisites: Entry onto relevant Masters course\n",
      "\n",
      "BS52012: Prerequisites: Entry onto relevant Masters course\n",
      "\n",
      "BS52013: Prerequisites: Successful completion of the relevant semester 1 MSc modules totalling 60 credits\n",
      "BS53003: Prerequisites: Successful completion of the relevant semester 1 and 2 MSc modules totalling 120 credits\n",
      "BS53004: Prerequisites: Successful completion of the relevant semester 1 and 2 MSc modules totalling 120 credits\n",
      "BS53005: Prerequisites: Successful completion of the relevant semester 1 and 2 MSc modules totalling 120 credits\n",
      "BS53005: Antirequisites: BS53006 Masters Placement: Science and Health Communication\n",
      "BS53006: Prerequisites:  Successful completion of the relevant semester 1 and 2 MSc modules totalling 120 credits\n",
      "BS53006: Antirequisites: Students cannot take any additional modules during the time period of this module.\n",
      "BS53XXX Science and Health Communication Masters Project\n",
      "BS53007: Prerequisites: Successful completion of the relevant semester 1 and 2 MSc modules totalling 120 credits\n"
     ]
    }
   ],
   "source": [
    "for m in modules:\n",
    "    if modules[m]['1.16'].strip() and modules[m]['1.16'].strip().upper()[0]!='N':\n",
    "        print(f'{m}: Prerequisites: {modules[m][\"1.16\"]}')\n",
    "        modules[m]['Pre']=modules[m][\"1.16\"]\n",
    "    if modules[m]['1.17'].strip() and modules[m]['1.17'].strip().upper()[0]!='N':\n",
    "        print(f'{m}: Corequisites: {modules[m][\"1.17\"]}')\n",
    "        modules[m]['Co']=modules[m][\"1.17\"]\n",
    "    if modules[m]['1.18'].strip() and modules[m]['1.18'].strip().upper()[0]!='N':\n",
    "        print(f'{m}: Antirequisites: {modules[m][\"1.18\"]}')\n",
    "        modules[m]['Anti']=modules[m][\"1.18\"]\n",
    "    "
   ]
  },
  {
   "cell_type": "code",
   "execution_count": 158,
   "id": "b92cea31",
   "metadata": {},
   "outputs": [
    {
     "name": "stdout",
     "output_type": "stream",
     "text": [
      "Applicability\n",
      "Section 1: Module specification\n",
      "Heading\n",
      "1.1 Module title\n",
      "1.2 Module code\n",
      "1.3 Scottish Credit and Qualifications Framework (SCQF) level and credits\n",
      "1.4 Aims\n",
      "1.5 Indicative content\n",
      "1.6 Intended learning outcomes (ILOs)\n",
      "1.7 Assessment strategy\n",
      "1.8 Assessment types and weighting\n",
      "1.9 Teaching and learning\n",
      "1.10 Indicative student contact hours and the expected amount of independent study\n",
      "1.11 Teaching staff\n",
      "1.12 Mode of study\n",
      "1.13 Location(s) for the delivery of teaching\n",
      "1.14 When delivered \n",
      "1.15 Equality and diversity\n",
      "1.16 Pre-requisites or entry requirements\n",
      "1.17 Co-requisites\n",
      "1.18 Anti-requisites\n",
      "1.19 Student numbers\n",
      "Section 2: Responsibilities and contacts\n",
      "Heading\n",
      "2.1 Lead School\n",
      "2.2 Lead discipline\n",
      "2.3 Collaborating Schools (where relevant)\n",
      "2.4 Module leader\n",
      "2.5 Lead administrator for the module\n",
      "Section 3: Module details (information for internal use for quality assurance and management)\n",
      "Heading\n",
      "3.1 Rationale for the module\n",
      "3.2 First student intake\n",
      "3.3 External organisations associated with the module\n",
      "3.4 Reference points for quality and academic standards\n",
      "3.5 Teaching quality and staff development opportunities\n",
      "3.6 Distance or blended learning\n",
      "3.7 Placements\n",
      "3.8 Inclusive nature of the curriculum and its delivery\n",
      "3.9 Teaching accommodation\n",
      "3.10 Learning and assessment resources\n",
      "3.11 Other resources including any specialist equipment or facilities\n",
      "3.12 Additional costs for students\n",
      "3.13 Teaching allocations\n",
      "Section 4: University management information (to be completed by the University’s Quality and Academic Standards office)\n",
      "Heading\n",
      "Version\n",
      "Status\n",
      "Date approved by QASC or, for minor changes, noted by the QAS office.\n"
     ]
    }
   ],
   "source": [
    "for t in doc.tables:\n",
    "    for r in range(len(t.rows)):\n",
    "                    print(t.row_cells(r)[0].text)"
   ]
  },
  {
   "cell_type": "code",
   "execution_count": 129,
   "id": "f512dcc8",
   "metadata": {
    "collapsed": true
   },
   "outputs": [],
   "source": [
    "factory = CurriculumFactory(driver, 'curriculumdb')"
   ]
  },
  {
   "cell_type": "code",
   "execution_count": 130,
   "id": "9de8ea4d",
   "metadata": {},
   "outputs": [],
   "source": [
    "bs32031=factory.get_or_create_Element('Module', **newmodparams)"
   ]
  },
  {
   "cell_type": "code",
   "execution_count": 131,
   "id": "06125e43",
   "metadata": {},
   "outputs": [
    {
     "data": {
      "text/plain": [
       "Module: [code: BS32031, name: Bioinformatics Research Skills 1, credits: 15, scqflevel: 3, shelevel: 9, semester: 2] ID: 4:4f947b4e-c5e2-45c5-b439-76aa1c96d891:0"
      ]
     },
     "execution_count": 131,
     "metadata": {},
     "output_type": "execute_result"
    }
   ],
   "source": [
    "bs32031"
   ]
  },
  {
   "cell_type": "code",
   "execution_count": 48,
   "id": "9a1865e8",
   "metadata": {},
   "outputs": [
    {
     "data": {
      "text/plain": [
       "['Module', 'Node', 'object']"
      ]
     },
     "execution_count": 48,
     "metadata": {},
     "output_type": "execute_result"
    }
   ],
   "source": [
    "[x.__name__ for x in globals()['Module'].__mro__]"
   ]
  },
  {
   "cell_type": "code",
   "execution_count": null,
   "id": "d61f210e",
   "metadata": {},
   "outputs": [],
   "source": [
    "doc = docx.Document(\"BS32008 Plant Science Specification QASv3.docx\")"
   ]
  },
  {
   "cell_type": "code",
   "execution_count": null,
   "id": "bb1931c6",
   "metadata": {},
   "outputs": [],
   "source": [
    "for p in doc.paragraphs:\n",
    "    print(p.text)\n"
   ]
  },
  {
   "cell_type": "code",
   "execution_count": null,
   "id": "7ac2a095",
   "metadata": {},
   "outputs": [],
   "source": [
    "doc.tables[0].row_cells(0)[1].text\n",
    "\n"
   ]
  },
  {
   "cell_type": "code",
   "execution_count": null,
   "id": "076d0955",
   "metadata": {},
   "outputs": [],
   "source": [
    "tcount=0\n",
    "structure ={}\n",
    "for t in doc.tables:\n",
    "    print(f'Table {tcount} ({len(t.rows)} rows)')\n",
    "    tcount+=1\n",
    "    for r in range(len(t.rows)):\n",
    "        print(f'row {r} [{t.row_cells(r)[0].text}] [{t.row_cells(r)[1].text}])')\n",
    "        structure[t.row_cells(r)[0].text.split()[0]] =t.row_cells(r)[1].text\n",
    "        "
   ]
  },
  {
   "cell_type": "code",
   "execution_count": 216,
   "id": "e8bf731a",
   "metadata": {},
   "outputs": [],
   "source": [
    "ilos =[]\n",
    "count=0\n",
    "for m in modules:\n",
    "    for i in modules[m]['1.6'].split('\\n'):\n",
    "        if i.strip():\n",
    "            ilos.append([count,m,i])\n",
    "            count+=1"
   ]
  },
  {
   "cell_type": "code",
   "execution_count": 189,
   "id": "0e0c748d",
   "metadata": {},
   "outputs": [],
   "source": [
    "def ilocompare(a, b):\n",
    "    seta = set([ word for word in a[2].split() if len(word)>4])\n",
    "    setb = set([ word for word in b[2].split() if len(word)>4])\n",
    "    union =seta.union(setb)\n",
    "    inter = seta.intersection(setb)\n",
    "    if not union:\n",
    "        return 1\n",
    "    return 1-(len(inter)/len(union))"
   ]
  },
  {
   "cell_type": "code",
   "execution_count": 217,
   "id": "f0652dc6",
   "metadata": {},
   "outputs": [],
   "source": [
    "dm =[]\n",
    "for y in range(len(ilos)):\n",
    "    ymat=[]\n",
    "    for x in range(len(ilos)):\n",
    "        if x==y:\n",
    "            ymat.append(0.0)\n",
    "        else:\n",
    "            ymat.append(ilocompare(ilos[x], ilos[y]))\n",
    "    dm.append(ymat)"
   ]
  },
  {
   "cell_type": "code",
   "execution_count": 173,
   "id": "874ab1e9",
   "metadata": {},
   "outputs": [],
   "source": [
    "import random\n",
    "import numpy as np\n",
    "from matplotlib import pyplot as plt\n",
    "from scipy.cluster.hierarchy import linkage, dendrogram, ward, fcluster,cut_tree\n",
    "from scipy.spatial.distance import pdist, squareform\n",
    "%matplotlib inline"
   ]
  },
  {
   "cell_type": "code",
   "execution_count": 218,
   "id": "4d86c733",
   "metadata": {},
   "outputs": [],
   "source": [
    "pdm=squareform(dm)\n",
    "iloh =ward(pdm)"
   ]
  },
  {
   "cell_type": "code",
   "execution_count": 219,
   "id": "7d4c0746",
   "metadata": {},
   "outputs": [
    {
     "data": {
      "image/png": "[encoded data removed]",
      "text/plain": [
       "<Figure size 640x480 with 1 Axes>"
      ]
     },
     "metadata": {},
     "output_type": "display_data"
    }
   ],
   "source": [
    "dendrogram(iloh)\n",
    "plt.show()\n"
   ]
  },
  {
   "cell_type": "code",
   "execution_count": 221,
   "id": "a6d684e2",
   "metadata": {},
   "outputs": [],
   "source": [
    "clusters=cut_tree(iloh, height=0.8)\n",
    "for p in range(len(ilos)):\n",
    "    if len(ilos[p])>3:\n",
    "        ilos[p][3]= int(clusters[p])\n",
    "    else:\n",
    "        ilos[p].append(int(clusters[p]))"
   ]
  },
  {
   "cell_type": "code",
   "execution_count": 222,
   "id": "cf798e31",
   "metadata": {},
   "outputs": [],
   "source": [
    "ofh = open('moduleilos.txt','w')\n",
    "print('Ref','Module','ILO', 'Cluster',file=ofh, sep='\\t')\n",
    "for i in ilos:\n",
    "    i[2]=i[2].replace('\\u2010','')\n",
    "    print('\\t'.join([f'{x}'.replace('\\t',' ') for x in i]), file=ofh )\n",
    "ofh.close()"
   ]
  },
  {
   "cell_type": "code",
   "execution_count": 223,
   "id": "098d24fa",
   "metadata": {},
   "outputs": [],
   "source": [
    "groupedterms ={}\n",
    "for x in ilos:\n",
    "    if not groupedterms.get(x[3]):\n",
    "        groupedterms[x[3]]=[]\n",
    "    groupedterms[x[3]].append(x)\n",
    "    \n"
   ]
  },
  {
   "cell_type": "code",
   "execution_count": 224,
   "id": "88271547",
   "metadata": {},
   "outputs": [
    {
     "data": {
      "text/plain": [
       "429"
      ]
     },
     "execution_count": 224,
     "metadata": {},
     "output_type": "execute_result"
    }
   ],
   "source": [
    "len(groupedterms)"
   ]
  },
  {
   "cell_type": "code",
   "execution_count": 225,
   "id": "3928b87f",
   "metadata": {},
   "outputs": [
    {
     "data": {
      "text/plain": [
       "922"
      ]
     },
     "execution_count": 225,
     "metadata": {},
     "output_type": "execute_result"
    }
   ],
   "source": [
    "len(ilos)"
   ]
  }
 ],
 "metadata": {
  "kernelspec": {
   "display_name": "Python 3 (ipykernel)",
   "language": "python",
   "name": "python3"
  },
  "language_info": {
   "codemirror_mode": {
    "name": "ipython",
    "version": 3
   },
   "file_extension": ".py",
   "mimetype": "text/x-python",
   "name": "python",
   "nbconvert_exporter": "python",
   "pygments_lexer": "ipython3",
   "version": "3.11.5"
  }
 },
 "nbformat": 4,
 "nbformat_minor": 5
}
