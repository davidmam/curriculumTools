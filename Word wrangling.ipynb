{
 "cells": [
  {
   "cell_type": "code",
   "execution_count": 1,
   "id": "1140bf43",
   "metadata": {},
   "outputs": [],
   "source": [
    "import docx\n"
   ]
  },
  {
   "cell_type": "code",
   "execution_count": 32,
   "id": "d61f210e",
   "metadata": {},
   "outputs": [],
   "source": [
    "doc = docx.Document(\"BS32008 Plant Science Specification QASv3.docx\")"
   ]
  },
  {
   "cell_type": "code",
   "execution_count": 33,
   "id": "bb1931c6",
   "metadata": {},
   "outputs": [
    {
     "name": "stdout",
     "output_type": "stream",
     "text": [
      "Module Specification and Supporting Information\n",
      "\n",
      "\n",
      "\n",
      "\n",
      "\n"
     ]
    }
   ],
   "source": [
    "for p in doc.paragraphs:\n",
    "    print(p.text)\n"
   ]
  },
  {
   "cell_type": "code",
   "execution_count": 34,
   "id": "7ac2a095",
   "metadata": {},
   "outputs": [
    {
     "data": {
      "text/plain": [
       "'For Academic Year 2022/23 onwards'"
      ]
     },
     "execution_count": 34,
     "metadata": {},
     "output_type": "execute_result"
    }
   ],
   "source": [
    "doc.tables[0].row_cells(0)[1].text\n",
    "\n"
   ]
  },
  {
   "cell_type": "code",
   "execution_count": 43,
   "id": "076d0955",
   "metadata": {},
   "outputs": [
    {
     "name": "stdout",
     "output_type": "stream",
     "text": [
      "Table 0 (1 rows)\n",
      "row 0 [Applicability] [For Academic Year 2022/23 onwards])\n",
      "Table 1 (21 rows)\n",
      "row 0 [Section 1: Module specification] [Section 1: Module specification])\n",
      "row 1 [Heading] [Details])\n",
      "row 2 [1.1 Module title] [Plant Science])\n",
      "row 3 [1.2 Module code] [BS32008])\n",
      "row 4 [1.3 Scottish Credit and Qualifications Framework (SCQF) level and credits] [SCQF Level 9 and 15 SCQF credits])\n",
      "row 5 [1.4 Aims] [To teach students a broad appreciation of modern plant science, emphasising unique aspects of plant biology, crops and the relevance of plant science to human welfare.])\n",
      "row 6 [1.5 Indicative content] [This module will study plant growth, stem and leaf development, grain formation, seed germination, domestication, plant sexual strategies, plant responses to the environment, hormonal signalling, seasonal change, plant symbionts, and plant pathogens, structures and diversities of plant genomes.])\n",
      "row 7 [1.6 Intended learning outcomes (ILOs)] [Knowledge and understanding of\n",
      "• relevance of plants to human welfare/ food security\n",
      "• key aspects of plant development\n",
      "• plant response to abiotic stimuli\n",
      "• relationship of plants with other organisms, both mutualistic and pathogenic\n",
      "• plant genomes, domestication and biotechnology\n",
      "Skills\n",
      "• researching and understanding scientific literature \n",
      "Other attributes\n",
      "• presentation skills; problem solving\n",
      "• personal reflection and self-assessment of skills])\n",
      "row 8 [1.7 Assessment strategy] [Assessed by three pieces of coursework (problem solving exercises around different tutorial themes worth 13% SEQ 002, 13% SEQ 003, and 14% SEQ 004) and by a final exam of longer answer questions (60% SEQ 001).])\n",
      "row 9 [1.8 Assessment types and weighting] [\n",
      "\n",
      "])\n",
      "row 10 [1.9 Teaching and learning] [The module will be delivered via lectures and tutorials (including problem sets and presentations) with additional self-directed study supported by delivered material.])\n",
      "row 11 [1.10 Indicative student contact hours and the expected amount of independent study] [\n",
      "\n",
      "])\n",
      "row 12 [1.11 Teaching staff] [Dr. Sarah McKim, Dr. Ingo Hein, Dr. Davide Bulgarelli, Dr. Jorunn Bos, Dr. Piers Hemsley])\n",
      "row 13 [1.12 Mode of study] [\n",
      "\n",
      "])\n",
      "row 14 [1.13 Location(s) for the delivery of teaching] [Main Campus])\n",
      "row 15 [1.14 When delivered ] [Semester 2 Block C])\n",
      "row 16 [1.15 Equality and diversity] [The University is committed to attracting and retaining students from under-represented groups and this module will make adjustments where it is reasonably possible to allow equality of opportunity for all students irrespective of age, disability, gender, race, religion or belief or sexual orientation.\n",
      "Contact for further information:  School Disability Support Officer - Mrs Monica Lacey\n",
      "or Life Sciences Athena SWAN representative - Dr Melissa D'Ascenzio\n",
      "])\n",
      "row 17 [1.16 Pre-requisites or entry requirements] [Successful completion of Level 1&2 Biological and Biomedical Sciences Core Curriculum or similar experience of basic Life Science education. Study of 60 Level 3 Credits in Semester 1.])\n",
      "row 18 [1.17 Co-requisites] [None])\n",
      "row 19 [1.18 Anti-requisites] [None])\n",
      "row 20 [1.19 Student numbers] [40])\n",
      "Table 2 (7 rows)\n",
      "row 0 [Section 2: Responsibilities and contacts] [Section 2: Responsibilities and contacts])\n",
      "row 1 [Heading] [Details])\n",
      "row 2 [2.1 Lead School] [SCHOOL OF LIFE SCIENCES])\n",
      "row 3 [2.2 Lead discipline] [Plant Sciences (DPSC)])\n",
      "row 4 [2.3 Collaborating Schools (where relevant)] [0])\n",
      "row 5 [2.4 Module leader] [Dr. Sarah McKim  s.mckim@dundee.ac.uk])\n",
      "row 6 [2.5 Lead administrator for the module] [Ms Arlene Stewart a.v.stewart@dundee.ac.uk])\n",
      "Table 3 (15 rows)\n",
      "row 0 [Section 3: Module details (information for internal use for quality assurance and management)] [Section 3: Module details (information for internal use for quality assurance and management)])\n",
      "row 1 [Heading] [Details])\n",
      "row 2 [3.1 Rationale for the module] [The module builds on basic plant science education in Years 1 and 2, together with Core teaching in Year 3 and give students a solid foundation in topics which underpin further specialization in Level 4.])\n",
      "row 3 [3.2 First student intake] [])\n",
      "row 4 [3.3 External organisations associated with the module] [N/A])\n",
      "row 5 [3.4 Reference points for quality and academic standards] [SCQF, QAA Benchmarks http://www.qaa.ac.uk/assuring-standards-and-quality\n",
      "For Biosciences:  https://www.qaa.ac.uk/docs/qaa/subject-benchmark-statements/subject-benchmark-statement-biosciences.pdf\n",
      "For Biomedical Sciences:  https://www.qaa.ac.uk/docs/qaa/subject-benchmark-statements/subject-benchmark-statement-biomedical-sciences.pdf\n",
      "The Royal Society of Biology Degree Accreditation https://www.rsb.org.uk/education/accreditation])\n",
      "row 6 [3.5 Teaching quality and staff development opportunities] [All teaching staff have several years research experience, and are able to bring expertise covering a variety of modern plant science topics to their teaching. Several are highly experienced teachers, and have close familiarity with a range of assessment and delivery styles. \n",
      "Teaching staff will be supported in assurance of academic standards via oversight of all quality issues by the Quality and Academic Standards Committees of the School of Life Sciences. Staff will take advantage of professional development opportunities offered through ASC, and the School of Life Sciences internal teaching seminar programme.])\n",
      "row 7 [3.6 Distance or blended learning] [N/A])\n",
      "row 8 [3.7 Placements] [N/A])\n",
      "row 9 [3.8 Inclusive nature of the curriculum and its delivery] [All staff are committed to providing an inclusive curriculum including access to a full teaching and learning programme for disabled students. The School liaises with the University's Equality and Diversity Officer and the Head of Disability Services to determine the most appropriate way to achieve this and ensure that no group or individual is disadvantaged by the learning environment. School and Programme Disability Support Officers support this process and ensure that specific adjustments are arranged to meet individual disabled students' needs. Further details of the University's provision for disabled students are available at:  http://www.dundee.ac.uk/studentservices/disabilityservices/])\n",
      "row 10 [3.9 Teaching accommodation] [Lecture Theatres, Botanic Gardens, local Research Institute, IT Suites for examinations])\n",
      "row 11 [3.10 Learning and assessment resources] [The digital aspects of the module will be covered by My Dundee, Turnitin, EOL, QMP, Turning Point,  and Reading Lists (for access to books and online journals) and there is no specialist software or hardware required for the module.])\n",
      "row 12 [3.11 Other resources including any specialist equipment or facilities] [Access to on-line journals, and IT resources (My Dundee, Questionmark Perception, Turning Point, Exam On Line).])\n",
      "row 13 [3.12 Additional costs for students] [None])\n",
      "row 14 [3.13 Teaching allocations] [This will be determined annually based on actual contributions.])\n",
      "Table 4 (5 rows)\n",
      "row 0 [Section 4: University management information (to be completed by the University’s Quality and Academic Standards office)] [Section 4: University management information (to be completed by the University’s Quality and Academic Standards office)])\n",
      "row 1 [Heading] [Details])\n",
      "row 2 [Version] [QASv3 – 9/6/2022])\n",
      "row 3 [Status] [update assessment strategy description, housekeeping to include resources and indicative content, teaching staff])\n",
      "row 4 [Date approved by QASC or, for minor changes, noted by the QAS office.] [Minor 9/62022 – QASC 30/6/2022])\n"
     ]
    }
   ],
   "source": [
    "tcount=0\n",
    "structure ={}\n",
    "for t in doc.tables:\n",
    "    print(f'Table {tcount} ({len(t.rows)} rows)')\n",
    "    tcount+=1\n",
    "    for r in range(len(t.rows)):\n",
    "        print(f'row {r} [{t.row_cells(r)[0].text}] [{t.row_cells(r)[1].text}])')\n",
    "        structure[t.row_cells(r)[0].text.split()[0]] =t.row_cells(r)[1].text"
   ]
  },
  {
   "cell_type": "code",
   "execution_count": 44,
   "id": "e8bf731a",
   "metadata": {},
   "outputs": [
    {
     "data": {
      "text/plain": [
       "dict_keys(['Applicability', 'Section', 'Heading', '1.1', '1.2', '1.3', '1.4', '1.5', '1.6', '1.7', '1.8', '1.9', '1.10', '1.11', '1.12', '1.13', '1.14', '1.15', '1.16', '1.17', '1.18', '1.19', '2.1', '2.2', '2.3', '2.4', '2.5', '3.1', '3.2', '3.3', '3.4', '3.5', '3.6', '3.7', '3.8', '3.9', '3.10', '3.11', '3.12', '3.13', 'Version', 'Status', 'Date'])"
      ]
     },
     "execution_count": 44,
     "metadata": {},
     "output_type": "execute_result"
    }
   ],
   "source": [
    "structure.keys()"
   ]
  }
 ],
 "metadata": {
  "kernelspec": {
   "display_name": "Python 3 (ipykernel)",
   "language": "python",
   "name": "python3"
  },
  "language_info": {
   "codemirror_mode": {
    "name": "ipython",
    "version": 3
   },
   "file_extension": ".py",
   "mimetype": "text/x-python",
   "name": "python",
   "nbconvert_exporter": "python",
   "pygments_lexer": "ipython3",
   "version": "3.8.18"
  }
 },
 "nbformat": 4,
 "nbformat_minor": 5
}
