{
 "cells": [
  {
   "cell_type": "code",
   "execution_count": 1,
   "id": "f1d5e2d2",
   "metadata": {},
   "outputs": [],
   "source": [
    "import os\n",
    "import re\n",
    "from CurriculumDB.Modelsn4j import *\n",
    "from neo4j import GraphDatabase\n",
    "import openpyxl\n",
    "import docx"
   ]
  },
  {
   "cell_type": "code",
   "execution_count": 2,
   "id": "3cad5941",
   "metadata": {
    "scrolled": true
   },
   "outputs": [
    {
     "name": "stdout",
     "output_type": "stream",
     "text": [
      "<neo4j._sync.driver.BoltDriver object at 0x0000023E1A409110>\n",
      "None\n"
     ]
    }
   ],
   "source": [
    "URI = \"bolt://localhost:7687\"\n",
    "AUTH = (\"curriculum\", \"mycurriculum\")\n",
    "\n",
    "driver = GraphDatabase.driver(URI, auth=AUTH)\n",
    "print(driver)\n",
    "print(driver.verify_connectivity())\n",
    "#help(driver.verify_connectivity)\n",
    "factory = CurriculumFactory(driver, 'curriculumdb')"
   ]
  },
  {
   "cell_type": "code",
   "execution_count": null,
   "id": "2974583e",
   "metadata": {},
   "outputs": [],
   "source": [
    "factory.g"
   ]
  },
  {
   "cell_type": "code",
   "execution_count": null,
   "id": "090e4b8f",
   "metadata": {},
   "outputs": [],
   "source": [
    "modfile = \"C:/Users/dmamartin/OneDrive - University of Dundee/Teaching/CurriculumDB/Module Choices Table.xlsx\"\n",
    "workbook=openpyxl.load_workbook(filename=modfile, data_only=True)"
   ]
  },
  {
   "cell_type": "code",
   "execution_count": null,
   "id": "79b907c1",
   "metadata": {},
   "outputs": [],
   "source": [
    "sheet=workbook.active\n",
    "for r in range(2,38):\n",
    "    print(r, sheet.cell(row=r, column=4).value)\n",
    "    credits=20\n",
    "    code=sheet.cell(row=r, column=4).value\n",
    "    name=sheet.cell(row=r, column=5).value\n",
    "    if code == 'BS41010X':\n",
    "        credits=40\n",
    "    shelevel = int(code[2])\n",
    "    scqflevel=shelevel+6\n",
    "    semester=int(code[3])\n",
    "    mod=factory.get_or_create_Element('Module', code=code, shelevel=shelevel,\n",
    "                                      credits=credits, scqflevel=scqflevel,\n",
    "                                      semester=semester,\n",
    "                                      name=name, startyear='25/26')"
   ]
  },
  {
   "cell_type": "code",
   "execution_count": null,
   "id": "06c08a8d",
   "metadata": {},
   "outputs": [],
   "source": [
    "moduledir = r\"C:\\Users\\dmamartin\\OneDrive - University of Dundee\\Teaching\\CurriculumDB\\Modules\"\n",
    "modules = {}\n",
    "for stage in os.listdir(moduledir):\n",
    "    print(f'Looking in {stage}')\n",
    "    if stage.startswith('Non'):\n",
    "        continue\n",
    "    for file in os.listdir(os.path.join(moduledir, stage)):\n",
    "        print(f'Checking {file}')\n",
    "        if file.endswith('.docx') and file.startswith('BS'):\n",
    "            print(f'processing {file}')\n",
    "            doc=docx.Document(os.path.join(moduledir, stage, file))\n",
    "            structure ={}\n",
    "            for t in doc.tables:\n",
    "                for r in range(len(t.rows)):\n",
    "                    if len(t.row_cells(r))>1:\n",
    "                        try:\n",
    "                            structure[t.row_cells(r)[0].text.split()[0]] =t.row_cells(r)[1].text\n",
    "                        except:\n",
    "                            print(file,r)\n",
    "                            continue\n",
    "            modules[structure['1.2']]=structure"
   ]
  },
  {
   "cell_type": "code",
   "execution_count": 83,
   "id": "1eb252a6",
   "metadata": {},
   "outputs": [
    {
     "data": {
      "text/plain": [
       "['Applicability',\n",
       " 'Section',\n",
       " 'Heading',\n",
       " '1.1',\n",
       " '1.2',\n",
       " '1.3',\n",
       " '1.4',\n",
       " 'Indicative',\n",
       " '1.7',\n",
       " '1.8',\n",
       " '1.9',\n",
       " '1.10',\n",
       " '1.11',\n",
       " '1.12',\n",
       " '1.13',\n",
       " '1.14',\n",
       " '1.15',\n",
       " '1.16',\n",
       " '1.17',\n",
       " '1.18',\n",
       " '1.19',\n",
       " '2.1',\n",
       " '2.2',\n",
       " '2.3',\n",
       " '2.4',\n",
       " '2.5',\n",
       " '3.1',\n",
       " '3.2',\n",
       " '3.3',\n",
       " '3.4',\n",
       " '3.5',\n",
       " '3.6',\n",
       " '3.7',\n",
       " '3.8',\n",
       " '3.9',\n",
       " '3.10',\n",
       " '3.11',\n",
       " '3.12',\n",
       " '3.13',\n",
       " 'Version',\n",
       " 'Status',\n",
       " 'Date']"
      ]
     },
     "execution_count": 83,
     "metadata": {},
     "output_type": "execute_result"
    }
   ],
   "source": [
    "list(modules[m].keys())"
   ]
  },
  {
   "cell_type": "code",
   "execution_count": 119,
   "id": "300f0d92",
   "metadata": {},
   "outputs": [
    {
     "name": "stdout",
     "output_type": "stream",
     "text": [
      "BS31042X 9\n",
      "BS31050X 10\n",
      "BS31051X 12\n",
      "BS32060X 17\n",
      "BS32061X 10\n",
      "BS32062X 12\n",
      "BS42040X 6\n",
      "BS42042X 21\n",
      "BS42043X 8\n",
      "BS42044X 9\n"
     ]
    }
   ],
   "source": [
    "ofh = open('newbimsmoduleilos.txt', 'w')\n",
    "for m in modules:\n",
    "    ilos = modules[m]['1.6'].replace('\\u2010','').split('\\n')\n",
    "    print(m, len(ilos))\n",
    "    for i in ilos:\n",
    "        print(m, i, sep='\\t', file=ofh)\n",
    "ofh.close()"
   ]
  },
  {
   "cell_type": "code",
   "execution_count": 120,
   "id": "1a95c1b0",
   "metadata": {},
   "outputs": [
    {
     "name": "stdout",
     "output_type": "stream",
     "text": [
      "BS31042X\t\n",
      "\n",
      "BS31042X\t\n",
      "\n",
      "BS31051X\t\n",
      "\n",
      "BS32060X\t\n",
      "\n",
      "BS32060X\t\n",
      "\n",
      "BS32061X\t\n",
      "\n",
      "BS32062X\t\n",
      "\n",
      "BS42040X\t\n",
      "\n",
      "BS42042X\t\n",
      "\n",
      "BS42042X\t\n",
      "\n",
      "BS42043X\t\n",
      "\n"
     ]
    }
   ],
   "source": [
    "ilos={}\n",
    "with open('newbimsmoduleilos.txt') as fh:\n",
    "    for line in fh:\n",
    "        if not line.count('\\t'):\n",
    "            continue\n",
    "        try:\n",
    "            (module, ilo) = line.strip().split('\\t',1)\n",
    "            if module not in ilos:\n",
    "                ilos[module]=[]\n",
    "            ilos[module].append(ilo)\n",
    "        except:\n",
    "            print(line)"
   ]
  },
  {
   "cell_type": "code",
   "execution_count": 121,
   "id": "1c0b60a6",
   "metadata": {},
   "outputs": [],
   "source": [
    "for m in ilos:\n",
    "    try:\n",
    "        mod = factory.get_or_create_Element('Module', code=m)\n",
    "        for i in ilos[m]:\n",
    "            mod.map_ilo(factory.get_or_create_Element('ModuleILO', outcome=i), year='25/26')\n",
    "    except:\n",
    "        print(f'Module {m} does not exist')\n"
   ]
  },
  {
   "cell_type": "code",
   "execution_count": null,
   "id": "8e77a340",
   "metadata": {},
   "outputs": [],
   "source": [
    "obj=factory.get_element_by_ID(\"4:4f947b4e-c5e2-45c5-b439-76aa1c96d891:916\")\n",
    "\n"
   ]
  },
  {
   "cell_type": "code",
   "execution_count": null,
   "id": "87a49104",
   "metadata": {},
   "outputs": [],
   "source": [
    "elementID = \"4:4f947b4e-c5e2-45c5-b439-76aa1c96d891:916\"\n",
    "erecords, _, _ = factory.db.execute_query(\n",
    "            \"MATCH (a ) where elementId(a)=$id \"\n",
    "            \"RETURN a\", id=elementID,\n",
    "             database_=factory.dbname,\n",
    "        )\n",
    "\n",
    "nodeclass = list(erecords[0].items()[0][1].labels)[0]\n",
    "params = dict(erecords[0].items()[0][1])\n",
    "params['elementID']=elementID\n"
   ]
  },
  {
   "cell_type": "code",
   "execution_count": 116,
   "id": "f33ff55b",
   "metadata": {},
   "outputs": [
    {
     "name": "stdout",
     "output_type": "stream",
     "text": [
      "Checking BS31042X Advanced Statistics for Biomedical and Life Sciences.docx\n",
      "processing BS31042X Advanced Statistics for Biomedical and Life Sciences.docx\n",
      "Checking BS31050X Cardiovascular, Respiratory and Renal Physiology.docx\n",
      "processing BS31050X Cardiovascular, Respiratory and Renal Physiology.docx\n",
      "Checking BS31051X Neuro, Endo , GI.docx\n",
      "processing BS31051X Neuro, Endo , GI.docx\n",
      "Checking BS32060X Pharmacology.docx\n",
      "processing BS32060X Pharmacology.docx\n",
      "Checking BS32061X Neuropharmacology.docx\n",
      "processing BS32061X Neuropharmacology.docx\n",
      "Checking BS32062X Cancer Biology and Research.docx\n",
      "processing BS32062X Cancer Biology and Research.docx\n",
      "Checking BS42040X Cardiovascular Medicine.docx\n",
      "processing BS42040X Cardiovascular Medicine.docx\n",
      "Checking BS42042X Advanced Cancer Biology and Therapeutics.docx\n",
      "processing BS42042X Advanced Cancer Biology and Therapeutics.docx\n",
      "Checking BS42043X Mechanisms and disorders of memory.docx\n",
      "processing BS42043X Mechanisms and disorders of memory.docx\n",
      "Checking BS42044X Translational Neuroscience.docx\n",
      "processing BS42044X Translational Neuroscience.docx\n"
     ]
    }
   ],
   "source": [
    "moduledir = r\"C:\\Users\\dmamartin\\OneDrive - University of Dundee\\Teaching\\CurriculumDB\\New Biomed\\Modules\\NEW DRAFT MODULES\"\n",
    "modules = {}\n",
    "for file in os.listdir(moduledir):\n",
    "#    print(f'Looking in {stage}')\n",
    "#    if stage.startswith('Non'):\n",
    "#        continue\n",
    "#    for file in os.listdir(os.path.join(moduledir, stage)):\n",
    "        print(f'Checking {file}')\n",
    "        if file.endswith('.docx') and file.startswith('BS'):\n",
    "            print(f'processing {file}')\n",
    "            doc=docx.Document(os.path.join(moduledir,  file))\n",
    "            structure ={}\n",
    "            for t in doc.tables:\n",
    "                for r in range(len(t.rows)):\n",
    "                    if len(t.row_cells(r))>1:\n",
    "                        try:\n",
    "                            structure[t.row_cells(r)[0].text.split()[0]] =t.row_cells(r)[1].text\n",
    "                        except:\n",
    "                            print(file,r)\n",
    "                            continue\n",
    "            if structure['1.14'] == '':\n",
    "                structure['1.14'] = getSemester(os.path.join(moduledir,  file))\n",
    "            modules[structure['1.2']]=structure\n",
    "            \n"
   ]
  },
  {
   "cell_type": "code",
   "execution_count": 111,
   "id": "d6bff54d",
   "metadata": {},
   "outputs": [
    {
     "name": "stdout",
     "output_type": "stream",
     "text": [
      "BS31042X ['Applicability', 'Section', 'Heading', '1.1', '1.2', '1.3', '1.4', '1.5', '1.6', '1.7', '1.8', '1.9', '1.10', '1.11', '1.12', '1.13', '1.14', '1.15', '1.16', '1.17', '1.18', '1.19', '2.1', '2.2', '2.3', '2.4', '2.5', '3.1', '3.2', '3.3', '3.4', '3.5', '3.6', '3.7', '3.8', '3.9', '3.10', '3.11', '3.12', '3.13', 'Version', 'Status', 'Date']\n",
      "BS31050X ['Applicability', 'Section', 'Heading', '1.1', '1.2', '1.3', '1.4', '1.5', '1.6', '1.7', '1.8', '1.9', '1.10', '1.11', '1.12', '1.13', '1.14', '1.15', '1.16', '1.17', '1.18', '1.19', '2.1', '2.2', '2.3', '2.4', '2.5', '3.1', '3.2', '3.3', '3.4', '3.5', '3.6', '3.7', '3.8', '3.9', '3.10', '3.11', '3.12', '3.13', 'Version', 'Status', 'Date']\n",
      "BS31051X ['Applicability', 'Section', 'Heading', '1.1', '1.2', '1.3', '1.4', '1.5', '1.6', '1.7', '1.8', '1.9', '1.10', '1.11', '1.12', '1.13', '1.14', '1.15', '1.16', '1.17', '1.18', '1.19', '2.1', '2.2', '2.3', '2.4', '2.5', '3.1', '3.2', '3.3', '3.4', '3.5', '3.6', '3.7', '3.8', '3.9', '3.10', '3.11', '3.12', '3.13', 'Version', 'Status', 'Date']\n",
      "BS32060X ['Applicability', 'Section', 'Heading', '1.1', '1.2', '1.3', '1.4', '1.5', '1.6', '1.7', '1.8', '1.9', '1.10', '1.11', '1.12', '1.13', '1.14', '1.15', '1.16', '1.17', '1.18', '1.19', '2.1', '2.2', '2.3', '2.4', '2.5', '3.1', '3.2', '3.3', '3.4', '3.5', '3.6', '3.7', '3.8', '3.9', '3.10', '3.11', '3.12', '3.13', 'Version', 'Status', 'Date']\n",
      "BS32061X ['Applicability', 'Section', 'Heading', '1.1', '1.2', '1.3', '1.4', '1.5', '1.6', '1.7', '1.8', '1.9', '1.10', '1.11', '1.12', '1.13', '1.14', '1.15', '1.16', '1.17', '1.18', '1.19', '2.1', '2.2', '2.3', '2.4', '2.5', '3.1', '3.2', '3.3', '3.4', '3.5', '3.6', '3.7', '3.8', '3.9', '3.10', '3.11', '3.12', '3.13', 'Version', 'Status', 'Date']\n",
      "BS32062X ['Applicability', 'Section', 'Heading', '1.1', '1.2', '1.3', '1.4', '1.5', '1.6', '1.7', '1.8', '1.9', '1.10', '1.11', '1.12', '1.13', '1.14', '1.15', '1.16', '1.17', '1.18', '1.19', '2.1', '2.2', '2.3', '2.4', '2.5', '3.1', '3.2', '3.3', '3.4', '3.5', '3.6', '3.7', '3.8', '3.9', '3.10', '3.11', '3.12', '3.13', 'Version', 'Status', 'Date']\n",
      "BS42040X ['Applicability', 'Section', 'Heading', '1.1', '1.2', '1.3', '1.4', '1.5', '1.6', '1.7', '1.8', '1.9', '1.10', '1.11', '1.12', '1.13', '1.14', '1.15', '1.16', '1.17', '1.18', '1.19', '2.1', '2.2', '2.3', '2.4', '2.5', '3.1', '3.2', '3.3', '3.4', '3.5', '3.6', '3.7', '3.8', '3.9', '3.10', '3.11', '3.12', '3.13', 'Version', 'Status', 'Date']\n",
      "BS42042X ['Applicability', 'Section', 'Heading', '1.1', '1.2', '1.3', '1.4', '1.5', '1.6', '1.7', '1.8', '1.9', '1.10', '1.11', '1.12', '1.13', '1.14', '1.15', '1.16', '1.17', '1.18', '1.19', '2.1', '2.2', '2.3', '2.4', '2.5', '3.1', '3.2', '3.3', '3.4', '3.5', '3.6', '3.7', '3.8', '3.9', '3.10', '3.11', '3.12', '3.13', 'Version', 'Status', 'Date']\n",
      "BS42043X ['Applicability', 'Section', 'Heading', '1.1', '1.2', '1.3', '1.4', '1.5', '1.6', '1.7', '1.8', '1.9', '1.10', '1.11', '1.12', '1.13', '1.14', '1.15', '1.16', '1.17', '1.18', '1.19', '2.1', '2.2', '2.3', '2.4', '2.5', '3.1', '3.2', '3.3', '3.4', '3.5', '3.6', '3.7', '3.8', '3.9', '3.10', '3.11', '3.12', '3.13', 'Version', 'Status', 'Date']\n",
      "BS42044X ['Applicability', 'Section', 'Heading', '1.1', '1.2', '1.3', '1.4', '1.5', '1.6', '1.7', '1.8', '1.9', '1.10', '1.11', '1.12', '1.13', '1.14', '1.15', '1.16', '1.17', '1.18', '1.19', '2.1', '2.2', '2.3', '2.4', '2.5', '3.1', '3.2', '3.3', '3.4', '3.5', '3.6', '3.7', '3.8', '3.9', '3.10', '3.11', '3.12', '3.13', 'Version', 'Status', 'Date']\n"
     ]
    }
   ],
   "source": [
    "for m in modules:\n",
    "    print(m,list(modules[m].keys()))"
   ]
  },
  {
   "cell_type": "code",
   "execution_count": 112,
   "id": "f430f215",
   "metadata": {},
   "outputs": [
    {
     "name": "stdout",
     "output_type": "stream",
     "text": [
      "BS31042X Advanced Statistics for Biomedical and Biological Sciences Semester 1 (once per academic year) Level 3 SHE3 (SCQF 9) 20 SCQF Credits, 10 ECTS \n",
      "\n",
      "BS31042X in database\n",
      "BS31050X Cardiovascular, Respiratory Systems and Renal Systems Semester 1 (once per academic year) Level 3 SHE3 (SCQF 9) 20 SCQF Credits, 10 ECTS\n",
      "BS31050X in database\n",
      "BS31051X Neurophysiology, Endocrine and Gastrointestinal Physiology Semester 1 (once per academic year) Level 3 SHE3 (SCQF 9) 20 SCQF Credits, 10 ECTS\n",
      "BS31051X in database\n",
      "BS32060X Pharmacology Semester 2 Block D SHE3 (SCQF level 9); 20 SCQF Credits = 7.5 ECTS Credits\n",
      "BS32060X in database\n",
      "BS32061X Neuropharmacology Semester 2 Block D SHE3 (SCQF level 9); 15 SCQF Credits = 7.5 ECTS Credits\n",
      "BS32061X in database\n",
      "BS32062X Cancer Biology Semester 2 SCQF level 10; 15 SCQF credits\n",
      "BS32062X in database\n",
      "BS42040X Cardiovascular Medicine Semester 2 (once per academic year) Undergraduate. SHE level M, SCQF level 10\n",
      "No of credits 20\n",
      "BS42040X in database\n",
      "BS42042X Advanced Cancer Biology and Anti-Cancer Therapeutics Semester 2 SCQF level 10; 20 SCQF credits\n",
      "BS42042X in database\n",
      "BS42043X Mechanisms and Disorders of Memory Semester 2 (once per academic year) SCQF level 10, 20 SCQF credits, 10 ECTS credits.\n",
      "BS42043X in database\n",
      "BS42044X Translational Neuroscience Semester 1 and 2 (twice per academic year) SCQF level 10, 20 SCQF credits, 10 ECTS credits.\n",
      "BS42044X in database\n"
     ]
    }
   ],
   "source": [
    "for m in modules:\n",
    "    print(m, modules[m]['1.1'],modules[m]['1.14'] , modules[m]['1.3'])\n",
    "    try: \n",
    "        mod = factory.get_or_create_Element('Module', code=m)\n",
    "        print(f'{m} in database')\n",
    "    except:\n",
    "        pass"
   ]
  },
  {
   "cell_type": "code",
   "execution_count": 114,
   "id": "7a88252e",
   "metadata": {},
   "outputs": [
    {
     "data": {
      "text/plain": [
       "'On completion of this module students should exhibit the following:\\nKnowledge & understanding\\nBe able to critically evaluate central concepts relevant to neuropsychiatric disorders\\nHave an advanced appreciation of the mechanisms of action of pharmacotherapies for the treatment of neuropsychiatric disorders. \\nBe able to provide an in depth description of the mechanisms of action of anaesthetic and analgesic drugs.\\nBe able to demonstrate an advanced understanding of different pain states and the pain pathways.\\nSKills\\nThe student should be able to access and interpret the scientific literature relevant to neuropsychiatric disorders, anaesthesia and analgesia. Novel information should be interpreted in the context of the knowledge gained from this module as evidenced by essays on selected topics. \\nExhibit self-reliance and effective independent study skills. For example, students should be familiar with accessing additional relevant peer reviewed information to enhance their level of comprehension of this topic. The student should be able to present, interpret and communicate the results of studies in this field.'"
      ]
     },
     "execution_count": 114,
     "metadata": {},
     "output_type": "execute_result"
    }
   ],
   "source": [
    "modules[m]['1.6']"
   ]
  },
  {
   "cell_type": "code",
   "execution_count": 117,
   "id": "f179dcb8",
   "metadata": {},
   "outputs": [
    {
     "name": "stdout",
     "output_type": "stream",
     "text": [
      "processing BS31042X\n",
      "processing BS31050X\n",
      "processing BS31051X\n",
      "processing BS32060X\n",
      "processing BS32061X\n",
      "processing BS32062X\n",
      "processing BS42040X\n",
      "processing BS42042X\n",
      "processing BS42043X\n",
      "processing BS42044X\n"
     ]
    }
   ],
   "source": [
    "modobj ={}\n",
    "\n",
    "scqf = re.compile(r'SCQF\\D+(\\d+)\\D+(\\d+)\\D')\n",
    "delivery = re.compile(r'Semester (\\d)')\n",
    "#for m in modules:\n",
    "#    print(m)\n",
    "#for m in ['BS32031']:\n",
    "for m in modules:\n",
    "    print(f'processing {m}')\n",
    "    try:\n",
    "        \n",
    "        newmod=modules[m]\n",
    "    \n",
    "        match=scqf.search(newmod['1.3'])\n",
    "        scqflevel=0\n",
    "        shelevel=0\n",
    "        credits=0\n",
    "        if match:\n",
    "            scqflevel = int(match.group(1))\n",
    "            shelevel = scqflevel - 6\n",
    "            credits = int(match.group(2))\n",
    "        else: \n",
    "            shelevel = int(m[2])\n",
    "            scqflevel = shelevel +6\n",
    "            print(m,\"1.3\", newmod['1.3'])\n",
    "        match=delivery.search(newmod['1.14'])\n",
    "        semester=0\n",
    "        if match:\n",
    "            semester = int(match.group(1))\n",
    "        else:\n",
    "            print(m,\"1.14\",newmod['1.14'])\n",
    "            semester = int(m[3])\n",
    "            if not semester:\n",
    "                semester='both'\n",
    "        if credits and scqflevel and shelevel and semester is not None:\n",
    "            newmodparams ={'code':newmod['1.2'], 'name':newmod['1.1'], 'semester':semester, \n",
    "                           'credits': credits, 'scqflevel':scqflevel, 'shelevel':shelevel}\n",
    "            try:\n",
    "                modobj[m]=factory.get_or_create_Element('Module', code = m)\n",
    "                modobj[m].update(**newmodparams)\n",
    "            except:\n",
    "                modobj[m]=factory.get_or_create_Element('Module', **newmodparams)\n",
    "    except Exception as e:\n",
    "        print(newmodparams,e)\n",
    "        "
   ]
  },
  {
   "cell_type": "code",
   "execution_count": 65,
   "id": "d1aafb3d",
   "metadata": {},
   "outputs": [],
   "source": [
    "doc=docx.Document(os.path.join(moduledir,  'BS32042X Bioinformatics Methods 2526 DRAFT.docx'))\n",
    "structure ={}\n",
    "rawstruct={}\n",
    "for t in doc.tables:\n",
    "    for r in range(len(t.rows)):\n",
    "        if len(t.row_cells(r))>1:\n",
    "            try:\n",
    "                structure[t.row_cells(r)[0].text.split()[0]] =t.row_cells(r)[1].text\n",
    "                rawstruct[t.row_cells(r)[0].text.split()[0]]=t.row_cells(r)[1]\n",
    "            except:\n",
    "                print(file,r)\n",
    "                continue\n",
    "        "
   ]
  },
  {
   "cell_type": "code",
   "execution_count": 31,
   "id": "475a850e",
   "metadata": {},
   "outputs": [
    {
     "name": "stdout",
     "output_type": "stream",
     "text": [
      "\n"
     ]
    }
   ],
   "source": [
    "for n in rawstruct['1.14'].iter_inner_content():\n",
    "    print(n.text)"
   ]
  },
  {
   "cell_type": "code",
   "execution_count": 39,
   "id": "38e74d75",
   "metadata": {},
   "outputs": [],
   "source": [
    "import zipfile\n",
    "from bs4 import BeautifulSoup\n",
    "from xml.dom.minidom import parseString\n",
    "document = zipfile.ZipFile(os.path.join(moduledir,  'BS31041X - Cell Biology -Module specification.docx'))\n",
    "xml_data = document.read('word/document.xml')\n",
    "document.close()\n",
    "\n",
    "soup = BeautifulSoup(xml_data, 'xml')\n",
    "gegevens = soup.findAll('dropDownList')     #search dropdownlists (n = 12)\n",
    "\n",
    "dropdownlist = []\n",
    "dropdownlistdata = []\n",
    "\n",
    "for i in gegevens:\n",
    "    dropdownlist.append(i.find('result'))\n",
    "\n",
    "dom = parseString(xml_data)\n"
   ]
  },
  {
   "cell_type": "code",
   "execution_count": 85,
   "id": "db4839c4",
   "metadata": {},
   "outputs": [],
   "source": [
    "document=None\n"
   ]
  },
  {
   "cell_type": "code",
   "execution_count": 42,
   "id": "635fc6ec",
   "metadata": {},
   "outputs": [
    {
     "name": "stdout",
     "output_type": "stream",
     "text": [
      "3618 \t\t\t\t\t\t\t\t\t<w:listItem w:displayText=\"Semester 1 (once per academic year)\" w:value=\"Semester 1 (once per academic year)\"/>\n",
      "3619 \t\t\t\t\t\t\t\t\t<w:listItem w:displayText=\"Semester 2 (once per academic year)\" w:value=\"Semester 2 (once per academic year)\"/>\n",
      "3620 \t\t\t\t\t\t\t\t\t<w:listItem w:displayText=\"Semester 3 (once per academic year)\" w:value=\"Semester 3 (once per academic year)\"/>\n",
      "3624 \t\t\t\t\t\t\t\t\t<w:listItem w:displayText=\"Semester 1 and 2 (twice per academic year)\" w:value=\"Semester 1 and 2 (twice per academic year)\"/>\n",
      "3625 \t\t\t\t\t\t\t\t\t<w:listItem w:displayText=\"Semester 1 and 3 (twice per academic year)\" w:value=\"Semester 1 and 3 (twice per academic year)\"/>\n",
      "3626 \t\t\t\t\t\t\t\t\t<w:listItem w:displayText=\"Semester 2 and 3 (twice per academic year)\" w:value=\"Semester 2 and 3 (twice per academic year)\"/>\n",
      "3627 \t\t\t\t\t\t\t\t\t<w:listItem w:displayText=\"Semester 1,2 and 3 (three times per academic year)\" w:value=\"Semester 1,2 and 3 (three times per academic year)\"/>\n",
      "3639 \t\t\t\t\t\t\t\t\t<w:t>Semester 1 (once per academic year)</w:t>\n",
      "4572 \t\t\t\t\t\t\t<w:t>Biomedical &amp; Biological Sciences Education (BSSE) is organised in a modular structure. Levels 1 &amp; 2 are common to all students. Level 3 sees the introduction of research-led and research-based teaching and training. Semester 1 of Level 3 is intended to be populated with Core Modules that will underpin core knowledge in students, some of whom may be arriving in Dundee from elsewhere, that they will need to be successful in the specialist theory and practical modules to follow. BS31</w:t>\n"
     ]
    }
   ],
   "source": [
    "lines=dom.toprettyxml().split('\\n')\n",
    "count=0\n",
    "for line in lines:\n",
    "    if 'Semester' in line:\n",
    "        print(count, line)\n",
    "    count+=1\n",
    "    "
   ]
  },
  {
   "cell_type": "code",
   "execution_count": 46,
   "id": "b124c594",
   "metadata": {},
   "outputs": [
    {
     "name": "stdout",
     "output_type": "stream",
     "text": [
      "\t\t\t\t<w:tc>\n",
      "\t\t\t\t\t<w:tcPr>\n",
      "\t\t\t\t\t\t<w:tcW w:w=\"1249\" w:type=\"pct\"/>\n",
      "\t\t\t\t\t\t<w:tcBorders>\n",
      "\t\t\t\t\t\t\t<w:top w:val=\"single\" w:sz=\"4\" w:space=\"0\" w:color=\"006666\"/>\n",
      "\t\t\t\t\t\t\t<w:left w:val=\"single\" w:sz=\"4\" w:space=\"0\" w:color=\"006666\"/>\n",
      "\t\t\t\t\t\t\t<w:bottom w:val=\"single\" w:sz=\"4\" w:space=\"0\" w:color=\"006666\"/>\n",
      "\t\t\t\t\t\t\t<w:right w:val=\"single\" w:sz=\"4\" w:space=\"0\" w:color=\"006666\"/>\n",
      "\t\t\t\t\t\t</w:tcBorders>\n",
      "\t\t\t\t\t\t<w:hideMark/>\n",
      "\t\t\t\t\t</w:tcPr>\n",
      "\t\t\t\t\t<w:p w14:paraId=\"0AF3CC41\" w14:textId=\"77777777\" w:rsidR=\"006E4680\" w:rsidRPr=\"006E31F1\" w:rsidRDefault=\"006E4680\" w:rsidP=\"006E4680\">\n",
      "\t\t\t\t\t\t<w:pPr>\n",
      "\t\t\t\t\t\t\t<w:rPr>\n",
      "\t\t\t\t\t\t\t\t<w:rFonts w:asciiTheme=\"minorHAnsi\" w:hAnsiTheme=\"minorHAnsi\"/>\n",
      "\t\t\t\t\t\t\t\t<w:sz w:val=\"20\"/>\n",
      "\t\t\t\t\t\t\t\t<w:szCs w:val=\"20\"/>\n",
      "\t\t\t\t\t\t\t\t<w:lang w:eastAsia=\"en-US\"/>\n",
      "\t\t\t\t\t\t\t</w:rPr>\n",
      "\t\t\t\t\t\t</w:pPr>\n",
      "\t\t\t\t\t\t<w:r w:rsidRPr=\"006E31F1\">\n",
      "\t\t\t\t\t\t\t<w:rPr>\n",
      "\t\t\t\t\t\t\t\t<w:rFonts w:asciiTheme=\"minorHAnsi\" w:hAnsiTheme=\"minorHAnsi\"/>\n",
      "\t\t\t\t\t\t\t\t<w:sz w:val=\"20\"/>\n",
      "\t\t\t\t\t\t\t\t<w:szCs w:val=\"20\"/>\n",
      "\t\t\t\t\t\t\t\t<w:lang w:eastAsia=\"en-US\"/>\n",
      "\t\t\t\t\t\t\t</w:rPr>\n",
      "\t\t\t\t\t\t\t<w:t xml:space=\"preserve\">1.14 When delivered </w:t>\n",
      "\t\t\t\t\t\t</w:r>\n",
      "\t\t\t\t\t</w:p>\n",
      "\t\t\t\t</w:tc>\n",
      "\t\t\t\t<w:tc>\n",
      "\t\t\t\t\t<w:tcPr>\n",
      "\t\t\t\t\t\t<w:tcW w:w=\"3751\" w:type=\"pct\"/>\n",
      "\t\t\t\t\t\t<w:tcBorders>\n",
      "\t\t\t\t\t\t\t<w:top w:val=\"single\" w:sz=\"4\" w:space=\"0\" w:color=\"006666\"/>\n",
      "\t\t\t\t\t\t\t<w:left w:val=\"single\" w:sz=\"4\" w:space=\"0\" w:color=\"006666\"/>\n",
      "\t\t\t\t\t\t\t<w:bottom w:val=\"single\" w:sz=\"4\" w:space=\"0\" w:color=\"006666\"/>\n",
      "\t\t\t\t\t\t\t<w:right w:val=\"single\" w:sz=\"4\" w:space=\"0\" w:color=\"006666\"/>\n",
      "\t\t\t\t\t\t</w:tcBorders>\n",
      "\t\t\t\t\t\t<w:hideMark/>\n",
      "\t\t\t\t\t</w:tcPr>\n",
      "\t\t\t\t\t<w:p w14:paraId=\"0AF3CC42\" w14:textId=\"316F2316\" w:rsidR=\"006E4680\" w:rsidRPr=\"006E31F1\" w:rsidRDefault=\"000F4711\" w:rsidP=\"006E4680\">\n",
      "\t\t\t\t\t\t<w:pPr>\n",
      "\t\t\t\t\t\t\t<w:spacing w:after=\"60\"/>\n",
      "\t\t\t\t\t\t\t<w:rPr>\n",
      "\t\t\t\t\t\t\t\t<w:rFonts w:asciiTheme=\"minorHAnsi\" w:hAnsiTheme=\"minorHAnsi\"/>\n",
      "\t\t\t\t\t\t\t\t<w:sz w:val=\"20\"/>\n",
      "\t\t\t\t\t\t\t\t<w:szCs w:val=\"20\"/>\n",
      "\t\t\t\t\t\t\t\t<w:lang w:eastAsia=\"en-US\"/>\n",
      "\t\t\t\t\t\t\t</w:rPr>\n",
      "\t\t\t\t\t\t</w:pPr>\n",
      "\t\t\t\t\t\t<w:sdt>\n",
      "\t\t\t\t\t\t\t<w:sdtPr>\n",
      "\t\t\t\t\t\t\t\t<w:rPr>\n",
      "\t\t\t\t\t\t\t\t\t<w:rFonts w:asciiTheme=\"minorHAnsi\" w:hAnsiTheme=\"minorHAnsi\"/>\n",
      "\t\t\t\t\t\t\t\t\t<w:sz w:val=\"20\"/>\n",
      "\t\t\t\t\t\t\t\t\t<w:szCs w:val=\"20\"/>\n",
      "\t\t\t\t\t\t\t\t\t<w:lang w:eastAsia=\"en-US\"/>\n",
      "\t\t\t\t\t\t\t\t</w:rPr>\n",
      "\t\t\t\t\t\t\t\t<w:alias w:val=\"Module delivery\"/>\n",
      "\t\t\t\t\t\t\t\t<w:tag w:val=\"Module delivery\"/>\n",
      "\t\t\t\t\t\t\t\t<w:id w:val=\"1165738399\"/>\n",
      "\t\t\t\t\t\t\t\t<w:placeholder>\n",
      "\t\t\t\t\t\t\t\t\t<w:docPart w:val=\"2FB6B831F9EC41D7AC46BEC147559744\"/>\n",
      "\t\t\t\t\t\t\t\t</w:placeholder>\n",
      "\t\t\t\t\t\t\t\t<w:dropDownList>\n",
      "\t\t\t\t\t\t\t\t\t<w:listItem w:value=\"Select from list\"/>\n",
      "\t\t\t\t\t\t\t\t\t<w:listItem w:displayText=\"Semester 1 (once per academic year)\" w:value=\"Semester 1 (once per academic year)\"/>\n",
      "\t\t\t\t\t\t\t\t\t<w:listItem w:displayText=\"Semester 2 (once per academic year)\" w:value=\"Semester 2 (once per academic year)\"/>\n",
      "\t\t\t\t\t\t\t\t\t<w:listItem w:displayText=\"Semester 3 (once per academic year)\" w:value=\"Semester 3 (once per academic year)\"/>\n",
      "\t\t\t\t\t\t\t\t\t<w:listItem w:displayText=\"Over semester 1 and 2 (once per academic year)\" w:value=\"Over semester 1 and 2 (once per academic year)\"/>\n",
      "\t\t\t\t\t\t\t\t\t<w:listItem w:displayText=\"Over semester 2 and 3 (once per academic year)\" w:value=\"Over semester 2 and 3 (once per academic year)\"/>\n",
      "\t\t\t\t\t\t\t\t\t<w:listItem w:displayText=\"Over the entire academic year (once)\" w:value=\"Over the entire academic year (once)\"/>\n",
      "\t\t\t\t\t\t\t\t\t<w:listItem w:displayText=\"Semester 1 and 2 (twice per academic year)\" w:value=\"Semester 1 and 2 (twice per academic year)\"/>\n",
      "\t\t\t\t\t\t\t\t\t<w:listItem w:displayText=\"Semester 1 and 3 (twice per academic year)\" w:value=\"Semester 1 and 3 (twice per academic year)\"/>\n",
      "\t\t\t\t\t\t\t\t\t<w:listItem w:displayText=\"Semester 2 and 3 (twice per academic year)\" w:value=\"Semester 2 and 3 (twice per academic year)\"/>\n",
      "\t\t\t\t\t\t\t\t\t<w:listItem w:displayText=\"Semester 1,2 and 3 (three times per academic year)\" w:value=\"Semester 1,2 and 3 (three times per academic year)\"/>\n",
      "\t\t\t\t\t\t\t\t</w:dropDownList>\n",
      "\t\t\t\t\t\t\t</w:sdtPr>\n",
      "\t\t\t\t\t\t\t<w:sdtEndPr/>\n",
      "\t\t\t\t\t\t\t<w:sdtContent>\n",
      "\t\t\t\t\t\t\t\t<w:r w:rsidR=\"003E6B59\">\n",
      "\t\t\t\t\t\t\t\t\t<w:rPr>\n",
      "\t\t\t\t\t\t\t\t\t\t<w:rFonts w:asciiTheme=\"minorHAnsi\" w:hAnsiTheme=\"minorHAnsi\"/>\n",
      "\t\t\t\t\t\t\t\t\t\t<w:sz w:val=\"20\"/>\n",
      "\t\t\t\t\t\t\t\t\t\t<w:szCs w:val=\"20\"/>\n",
      "\t\t\t\t\t\t\t\t\t\t<w:lang w:eastAsia=\"en-US\"/>\n",
      "\t\t\t\t\t\t\t\t\t</w:rPr>\n",
      "\t\t\t\t\t\t\t\t\t<w:t>Semester 1 (once per academic year)</w:t>\n",
      "\t\t\t\t\t\t\t\t</w:r>\n",
      "\t\t\t\t\t\t\t</w:sdtContent>\n",
      "\t\t\t\t\t\t</w:sdt>\n",
      "\t\t\t\t\t</w:p>\n",
      "\t\t\t\t</w:tc>\n",
      "\t\t\t</w:tr>\n",
      "\t\t\t<w:tr w:rsidR=\"006E4680\" w:rsidRPr=\"006E31F1\" w14:paraId=\"0AF3CC46\" w14:textId=\"77777777\" w:rsidTr=\"00F04AA2\">\n",
      "\t\t\t\t<w:tc>\n",
      "\t\t\t\t\t<w:tcPr>\n",
      "\t\t\t\t\t\t<w:tcW w:w=\"1249\" w:type=\"pct\"/>\n"
     ]
    }
   ],
   "source": [
    "for line in lines[3550:3650]:\n",
    "    print(line)"
   ]
  },
  {
   "cell_type": "code",
   "execution_count": 49,
   "id": "5da67e34",
   "metadata": {},
   "outputs": [],
   "source": [
    "trlist = dom.getElementsByTagName('w:tr')"
   ]
  },
  {
   "cell_type": "code",
   "execution_count": 62,
   "id": "e6925cfb",
   "metadata": {},
   "outputs": [],
   "source": [
    "def getSemester(file):\n",
    "    document = zipfile.ZipFile(file)\n",
    "    xml_data = document.read('word/document.xml')\n",
    "    document.close()\n",
    "    dom = parseString(xml_data)\n",
    "    trlist = dom.getElementsByTagName('w:tr')\n",
    "    for row in trlist:\n",
    "        cells = row.getElementsByTagName('w:tc')\n",
    "        if len(cells )!=2:\n",
    "            continue\n",
    "        desc = cells[0].getElementsByTagName('w:t')\n",
    "        content =cells[1].getElementsByTagName('w:t')\n",
    "        if len(desc) and len(content):\n",
    "            section = desc[0].firstChild.data.split()[0]\n",
    "            if section == '1.14':\n",
    "                return content[0].firstChild.data\n",
    "            "
   ]
  },
  {
   "cell_type": "code",
   "execution_count": 50,
   "id": "bc9e3486",
   "metadata": {},
   "outputs": [
    {
     "data": {
      "text/plain": [
       "[<DOM Element: w:tr at 0x2746a39f750>,\n",
       " <DOM Element: w:tr at 0x2746a3c36b0>,\n",
       " <DOM Element: w:tr at 0x2746a3d1310>,\n",
       " <DOM Element: w:tr at 0x2746a3e87d0>,\n",
       " <DOM Element: w:tr at 0x2746a3eb6b0>,\n",
       " <DOM Element: w:tr at 0x2746a3f7430>,\n",
       " <DOM Element: w:tr at 0x2746a40e350>,\n",
       " <DOM Element: w:tr at 0x2746a4320d0>,\n",
       " <DOM Element: w:tr at 0x2746a482ad0>,\n",
       " <DOM Element: w:tr at 0x2746a50ea30>,\n",
       " <DOM Element: w:tr at 0x2746a542670>,\n",
       " <DOM Element: w:tr at 0x2746a54d630>,\n",
       " <DOM Element: w:tr at 0x2746a54f6b0>,\n",
       " <DOM Element: w:tr at 0x2746a5639d0>,\n",
       " <DOM Element: w:tr at 0x2746a57e5d0>,\n",
       " <DOM Element: w:tr at 0x2746a5899f0>,\n",
       " <DOM Element: w:tr at 0x2746a5b8550>,\n",
       " <DOM Element: w:tr at 0x2746a5bb6b0>,\n",
       " <DOM Element: w:tr at 0x2746a5d18b0>,\n",
       " <DOM Element: w:tr at 0x2746a5d3610>,\n",
       " <DOM Element: w:tr at 0x2746a5e0730>,\n",
       " <DOM Element: w:tr at 0x2746a5e2530>,\n",
       " <DOM Element: w:tr at 0x2746a5f0370>,\n",
       " <DOM Element: w:tr at 0x2746a5f2170>,\n",
       " <DOM Element: w:tr at 0x2746a5f3d90>,\n",
       " <DOM Element: w:tr at 0x2746a6028f0>,\n",
       " <DOM Element: w:tr at 0x2746a641270>,\n",
       " <DOM Element: w:tr at 0x2746a650370>,\n",
       " <DOM Element: w:tr at 0x2746a651e50>,\n",
       " <DOM Element: w:tr at 0x2746a653930>,\n",
       " <DOM Element: w:tr at 0x2746a66e350>,\n",
       " <DOM Element: w:tr at 0x2746a67d270>,\n",
       " <DOM Element: w:tr at 0x2746a692030>,\n",
       " <DOM Element: w:tr at 0x2746a6a3d90>,\n",
       " <DOM Element: w:tr at 0x2746a6b6cb0>,\n",
       " <DOM Element: w:tr at 0x2746a6c9a90>,\n",
       " <DOM Element: w:tr at 0x2746a6dc870>,\n",
       " <DOM Element: w:tr at 0x2746a6f49b0>,\n",
       " <DOM Element: w:tr at 0x2746a6f5d10>,\n",
       " <DOM Element: w:tr at 0x2746a7082d0>,\n",
       " <DOM Element: w:tr at 0x2746a70a8f0>,\n",
       " <DOM Element: w:tr at 0x2746a71cf50>,\n",
       " <DOM Element: w:tr at 0x2746a71f570>,\n",
       " <DOM Element: w:tr at 0x2746a72dbd0>,\n",
       " <DOM Element: w:tr at 0x2746a739bd0>,\n",
       " <DOM Element: w:tr at 0x2746a73af30>,\n",
       " <DOM Element: w:tr at 0x2746a74d4f0>,\n",
       " <DOM Element: w:tr at 0x2746a76c410>,\n",
       " <DOM Element: w:tr at 0x2746a76ea30>,\n",
       " <DOM Element: w:tr at 0x2746a77d6d0>,\n",
       " <DOM Element: w:tr at 0x2746a78fcf0>,\n",
       " <DOM Element: w:tr at 0x2746a7ade50>,\n",
       " <DOM Element: w:tr at 0x2746a7bc550>,\n",
       " <DOM Element: w:tr at 0x2746a7beb70>,\n",
       " <DOM Element: w:tr at 0x2746a7d2f30>,\n",
       " <DOM Element: w:tr at 0x2746a7dd590>,\n",
       " <DOM Element: w:tr at 0x2746a7dfc50>,\n",
       " <DOM Element: w:tr at 0x2746a800eb0>,\n",
       " <DOM Element: w:tr at 0x2746a802df0>,\n",
       " <DOM Element: w:tr at 0x2746a80e710>,\n",
       " <DOM Element: w:tr at 0x2746a80f930>,\n",
       " <DOM Element: w:tr at 0x2746a825ef0>,\n",
       " <DOM Element: w:tr at 0x2746a827930>,\n",
       " <DOM Element: w:tr at 0x2746a8353b0>]"
      ]
     },
     "execution_count": 50,
     "metadata": {},
     "output_type": "execute_result"
    }
   ],
   "source": [
    "trlist"
   ]
  },
  {
   "cell_type": "code",
   "execution_count": 37,
   "id": "aee9a31f",
   "metadata": {},
   "outputs": [
    {
     "data": {
      "text/plain": [
       "' w:asciiTheme=\"minorHAnsi\" w:hAnsiTheme=\"minorHAnsi\"/><w:sz w:val=\"20\"/><w:szCs w:val=\"20\"/><w:lang w:eastAsia=\"en-US\"/></w:rPr><w:t xml:space=\"preserve\">1.14 When delivered </w:t></w:r></w:p></w:tc><w:tc><w:tcPr><w:tcW w:w=\"3751\" w:type=\"pct\"/><w:tcBorders><w:top w:val=\"single\" w:sz=\"4\" w:space=\"0\" w:color=\"006666\"/><w:left w:val=\"single\" w:sz=\"4\" w:space=\"0\" w:color=\"006666\"/><w:bottom w:val=\"single\" w:sz=\"4\" w:space=\"0\" w:color=\"006666\"/><w:right w:val=\"single\" w:sz=\"4\" w:space=\"0\" w:color=\"006666\"/></w:tcBorders><w:hideMark/></w:tcPr><w:p w14:paraId=\"0AF3CC42\" w14:textId=\"316F2316\" w:rsidR=\"006E4680\" w:rsidRPr=\"006E31F1\" w:rsidRDefault=\"000F4711\" w:rsidP=\"006E4680\"><w:pPr><w:spacing w:after=\"60\"/><w:rPr><w:rFonts w:asciiTheme=\"minorHAnsi\" w:hAnsiTheme=\"minorHAnsi\"/><w:sz w:val=\"20\"/><w:szCs w:val=\"20\"/><w:lang w:eastAsia=\"en-US\"/></w:rPr></w:pPr><w:sdt><w:sdtPr><w:rPr><w:rFonts w:asciiTheme=\"minorHAnsi\" w:hAnsiTheme=\"minorHAnsi\"/><w:sz w:val=\"20\"/><w:szCs w:val=\"20\"/><w:lang w:eastAsia=\"en-US\"/></w:rPr><w:alias w:val=\"Module delivery\"/><w:tag w:val=\"Module delivery\"/><w:id w:val=\"1165738399\"/><w:placeholder><w:docPart w:val=\"2FB6B831F9EC41D7AC46BEC147559744\"/></w:placeholder><w:dropDownList><w:listItem w:value=\"Select from list\"/><w:listItem w:displayText=\"Semester 1 (once per academic year)\" w:value=\"Semester 1 (once per academic year)\"/><w:listItem w:displayText=\"Semester 2 (once per academic year)\" w:value=\"Semester 2 (once per academic year)\"/><w:listItem w:displayText=\"Semester 3 (once per academic year)\" w:value=\"Semester 3 (once per academic year)\"/><w:listItem w:displayText=\"Over semester 1 and 2 (once per academic year)\" w:value=\"Over semester 1 and 2 (once per academic year)\"/><w:listItem w:displayText=\"Over semester 2 and 3 (once per academic year)\" w:value=\"Over semester 2 and 3 (once per academic year)\"/><w:listItem w:displayText=\"Over the entire academic year (once)\" w:value=\"Over the entire academic year (once)\"/><w:listItem w:displayText=\"Semester 1 and 2 (twice per academic year)\" w:value=\"Semester 1 and 2 (twice per academic year)\"/><w:listItem w:displayText=\"Semester 1 and 3 (twice per academic year)\" w:value=\"Semester 1 and 3 (twice per academic year)\"/><w:listItem w:displayText=\"Semester 2 and 3 (twice per academic year)\" w:value=\"Semester 2 and 3 (twice per academic year)\"/><w:listItem w:displayText=\"Semester 1,2 and 3 (three times per academic year)\" w:value=\"Semester 1,2 and 3 (three times per academic year)\"/></w:dropDownList></w:sdtPr><w:sdtEndPr/><w:sdtContent><w:r w:rsidR=\"003E6B59\"><w:rPr><w:rFonts w:asciiTheme=\"minorHAnsi\" w:hAnsiTheme=\"minorHAnsi\"/><w:sz w:val=\"20\"/><w:szCs w:val=\"20\"/><w:lang w:eastAsia=\"en-US\"/></w:rPr><w:t>Semester 1 (once per academic year)</w:t></w:r></w:sdtContent></w:sdt></w:p></w:tc></w:tr><w:tr w:rsidR=\"006E4680\" w:rsidRPr=\"006E31F1\" w14:paraId=\"0AF3CC46\" w14:textId=\"77777777\" w:rsidTr=\"00F04AA2\"><w:tc><w:tcPr><w:tcW w:w=\"1249\" w:type=\"pct\"/><w:tcBorders><w:top w:val=\"single\" w:sz=\"4\" w'"
      ]
     },
     "execution_count": 37,
     "metadata": {},
     "output_type": "execute_result"
    }
   ],
   "source": [
    "str(xml_data)[95500:98500]"
   ]
  },
  {
   "cell_type": "code",
   "execution_count": 35,
   "id": "df3bb39e",
   "metadata": {},
   "outputs": [
    {
     "data": {
      "text/plain": [
       "95654"
      ]
     },
     "execution_count": 35,
     "metadata": {},
     "output_type": "execute_result"
    }
   ],
   "source": [
    "str(xml_data).find('1.14')"
   ]
  }
 ],
 "metadata": {
  "kernelspec": {
   "display_name": "Python 3 (ipykernel)",
   "language": "python",
   "name": "python3"
  },
  "language_info": {
   "codemirror_mode": {
    "name": "ipython",
    "version": 3
   },
   "file_extension": ".py",
   "mimetype": "text/x-python",
   "name": "python",
   "nbconvert_exporter": "python",
   "pygments_lexer": "ipython3",
   "version": "3.11.7"
  }
 },
 "nbformat": 4,
 "nbformat_minor": 5
}
