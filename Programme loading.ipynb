{
 "cells": [
  {
   "cell_type": "code",
   "execution_count": null,
   "id": "06cf0f38",
   "metadata": {},
   "outputs": [],
   "source": [
    "from neo4j import GraphDatabase\n",
    "from CurriculumDB.Modelsn4j import *\n",
    "import docx\n",
    "import os\n",
    "from sklearn.metrics import pairwise_distances\n",
    "from sklearn.cluster import  AgglomerativeClustering"
   ]
  },
  {
   "cell_type": "code",
   "execution_count": null,
   "id": "3dd8a0f0",
   "metadata": {},
   "outputs": [],
   "source": [
    "# URI examples: \"neo4j://localhost\", \"neo4j+s://xxx.databases.neo4j.io\"\n",
    "URI = \"bolt://localhost:7687\"\n",
    "AUTH = (\"curriculum\", \"mycurriculum\")\n",
    "\n",
    "driver = GraphDatabase.driver(URI, auth=AUTH)\n",
    "print(driver)\n",
    "print(driver.verify_connectivity())\n",
    "#help(driver.verify_connectivity)\n"
   ]
  },
  {
   "cell_type": "code",
   "execution_count": null,
   "id": "fb453ead",
   "metadata": {},
   "outputs": [],
   "source": [
    "#Set this depending on location\n",
    "factoryname='curriculumdb'"
   ]
  },
  {
   "cell_type": "code",
   "execution_count": null,
   "id": "7d48ef50",
   "metadata": {},
   "outputs": [],
   "source": [
    "\n",
    "factory = CurriculumFactory(driver, factoryname)"
   ]
  },
  {
   "cell_type": "code",
   "execution_count": null,
   "id": "0ef3f7fd",
   "metadata": {},
   "outputs": [],
   "source": [
    "routes = {'BIMS': [\"BMS\",\"Biomedical Sciences\"],\n",
    " 'NEUR': [\"BMS\",\"Neuroscience\"],\n",
    " 'PHAR': [\"BMS\",\"Pharmacology\"],\n",
    " 'PHSC': [\"BMS\",\"Physiological Sciences\"],\n",
    " 'BIOLOGSCI': [\"BIO\",\"Biological Sciences\"],\n",
    " 'BIOC': [\"BIO\",\"Biochemistry\"],\n",
    " 'BSBI' : [\"BIO\",\"Biological Sciences (Bioinformatics)\"],\n",
    " 'BSPS': [\"BIO\",\"Biological Sciences (Plant Sciences)\"],\n",
    " 'MBIO': [\"BIO\",\"Microbiology\"],\n",
    " 'MOLG': [\"BIO\",\"Molecular Genetics\"],\n",
    " 'MOLB':[\"BIO\",\"Molecular Biology\"],\n",
    " 'BCDD' : [\"BIO\",\"Biological Chemistry and Drug Discovery\"]}"
   ]
  },
  {
   "cell_type": "markdown",
   "id": "a332d049",
   "metadata": {},
   "source": [
    "Get the required fields from the Programme object"
   ]
  },
  {
   "cell_type": "code",
   "execution_count": null,
   "id": "ad1afd5a",
   "metadata": {},
   "outputs": [],
   "source": [
    "Programme.requiredParams\n"
   ]
  },
  {
   "cell_type": "code",
   "execution_count": null,
   "id": "1f3977e2",
   "metadata": {},
   "outputs": [],
   "source": [
    "routeobj ={}\n",
    "for p in routes:\n",
    "    prog = factory.get_or_create_Element('Programme', code=p, name=routes[p][1])\n",
    "    routeobj[p]=prog\n",
    "    "
   ]
  },
  {
   "cell_type": "markdown",
   "id": "e431fa2d",
   "metadata": {},
   "source": [
    "Test extraction of data from one programme file."
   ]
  },
  {
   "cell_type": "code",
   "execution_count": null,
   "id": "7d95da15",
   "metadata": {
    "scrolled": true
   },
   "outputs": [],
   "source": [
    "doc = docx.Document(\"c:/Users/marti/Documents/LifeSciteaching/Curriculum/Programmes/UG/BSc Hons Biomedical Sciences Programme Specification 2324.docx\")\n",
    "\n"
   ]
  },
  {
   "cell_type": "code",
   "execution_count": null,
   "id": "55b0e819",
   "metadata": {},
   "outputs": [],
   "source": [
    "modmap = []\n",
    "structure ={}\n",
    "for t in doc.tables:\n",
    "    for r in range(len(t.rows)):\n",
    "        #print(len(t.rows), len(t.row_cells(r)), t.row_cells(r)[0].text,[c.tables for c in t.row_cells(r)])\n",
    "        structure[t.row_cells(r)[0].text.split()[0]] = t.row_cells(r)\n",
    "tc=0\n",
    "for m in structure['2.10'][0].tables:\n",
    "    coretype=['Core','Elective'][tc%2]\n",
    "    tc+=1\n",
    "    for r in range(1,len(m.rows)):\n",
    "        print([coretype]+[c.text for c in m.row_cells(r)])\n",
    "        modmap.append([coretype]+[c.text for c in m.row_cells(r)])"
   ]
  },
  {
   "cell_type": "markdown",
   "id": "53ad2790",
   "metadata": {},
   "source": [
    "Build a dictionary of modules from the database for mapping to programmes"
   ]
  },
  {
   "cell_type": "code",
   "execution_count": null,
   "id": "f1be9a3a",
   "metadata": {},
   "outputs": [],
   "source": [
    "mods = factory.get_all_elements('Module')\n",
    "modules ={m.params['code']:m for m in mods} "
   ]
  },
  {
   "cell_type": "code",
   "execution_count": null,
   "id": "886a0da7",
   "metadata": {},
   "outputs": [],
   "source": [
    "modules\n"
   ]
  },
  {
   "cell_type": "markdown",
   "id": "4356b083",
   "metadata": {},
   "source": [
    "List all the components extracted from the document tables."
   ]
  },
  {
   "cell_type": "code",
   "execution_count": null,
   "id": "f838fdbf",
   "metadata": {},
   "outputs": [],
   "source": [
    "{s:structure[s][-1].text for s in structure}"
   ]
  },
  {
   "cell_type": "code",
   "execution_count": null,
   "id": "2116a6aa",
   "metadata": {},
   "outputs": [],
   "source": [
    "# Dictionary to hold the programmes\n",
    "programmes={}"
   ]
  },
  {
   "cell_type": "code",
   "execution_count": null,
   "id": "0c841729",
   "metadata": {},
   "outputs": [],
   "source": [
    "os.listdir(progdir)"
   ]
  },
  {
   "cell_type": "markdown",
   "id": "db443f9e",
   "metadata": {},
   "source": [
    "Test mapping on one programme"
   ]
  },
  {
   "cell_type": "code",
   "execution_count": null,
   "id": "1ca8141c",
   "metadata": {},
   "outputs": [],
   "source": [
    "for m in modmap:\n",
    "    if modules.get(m[1].strip('*')):\n",
    "        programmes['BIMS'].map_module(modules[m[1].strip('*')],m[0]=='Elective', year='23/24')"
   ]
  },
  {
   "cell_type": "code",
   "execution_count": null,
   "id": "50a74bad",
   "metadata": {},
   "outputs": [],
   "source": [
    "#List the programme spec documents\n",
    "docs = {\n",
    "    'BIO':'BSc Hons Biologsci Programme Specification QASv3.docx',\n",
    "'BIMS': 'BSc Hons Biomedical Sciences Programme Specification 2324.docx',\n",
    " 'NEUR': 'BSc Hons Neuroscience Programme Specification QASv8.docx',\n",
    " 'PHAR': 'BSc Hons Pharmacology Programme Specification QASv6.docx',\n",
    " 'PHYS': 'BSc Hons Physiological Sciences Programme Specification QASv6.docx',\n",
    "'BIOBIMSNUS':'BSc (Hons) Joint Degree Biological and Biomedical Sciences QASv5.docx',\n",
    " 'BIOHAN':'BSc (Hons) Joint Degree Molecular Biosciences QASv2.docx'\n",
    "    \n",
    "}\n",
    "    \n",
    "\n",
    "#progdir='c:/Users/marti/Documents/LifeSciteaching/Curriculum/Programmes/UG/'\n",
    "progdir ='c:/Users/dmamartin/OneDrive - University of Dundee/Teaching/CurriculumDB/Programmes/UG/'"
   ]
  },
  {
   "cell_type": "code",
   "execution_count": null,
   "id": "06c2b05e",
   "metadata": {},
   "outputs": [],
   "source": [
    "#Change the list to load and process specific programmes\n",
    "for route in [ 'BIOHAN']:\n",
    "    print(os.path.join(progdir,docs[route]))\n",
    "    doc = docx.Document(os.path.join(progdir,docs[route]))\n",
    "    modmap = []\n",
    "    structure ={}\n",
    "    for t in doc.tables:\n",
    "        for r in range(len(t.rows)):\n",
    "            #print(len(t.rows), len(t.row_cells(r)), t.row_cells(r)[0].text,[c.tables for c in t.row_cells(r)])\n",
    "            structure[t.row_cells(r)[0].text.split()[0]] = t.row_cells(r)\n",
    "    tc=0\n",
    "    sy = structure['Applicability'].split()[-1]\n",
    "    for m in structure['2.10'][0].tables:\n",
    "        coretype=['Core','Elective'][tc%2]\n",
    "        tc+=1\n",
    "        for r in range(1,len(m.rows)):\n",
    "            print([coretype]+[c.text for c in m.row_cells(r)])\n",
    "            modmap.append([coretype]+[c.text for c in m.row_cells(r)])\n",
    "    programmes[route]=factory.get_or_create_Element('Programme', code=route,name=structure['1.1'][-1].text )\n",
    "    for m in modmap:\n",
    "        if modules.get(m[1].strip('*')):\n",
    "            programmes[route].map_module(modules[m[1].strip('*')],m[0]=='Elective', year=sy)"
   ]
  },
  {
   "cell_type": "code",
   "execution_count": null,
   "id": "5828b1fb",
   "metadata": {},
   "outputs": [],
   "source": [
    "# Processing biologicals\n",
    "doc = docx.Document(os.path.join(progdir,docs['BIO']))"
   ]
  },
  {
   "cell_type": "markdown",
   "id": "e61d85b6",
   "metadata": {},
   "source": [
    "Biological degrees other than Biological Sciences have the programme spec in appended tables. This maps degree route to the table number. Each degree has a table of core modules and a table of optional modules"
   ]
  },
  {
   "cell_type": "code",
   "execution_count": null,
   "id": "792225fd",
   "metadata": {},
   "outputs": [],
   "source": [
    "tablecount = {'BSBI': (8,'Biological Sciences (Bioinformatics)'),\n",
    "              'BSPS': (10,'Biological Sciences (Plant Sciences)'),\n",
    "              'BIOC': (12,'Biochemistry'),\n",
    "              'BCDD': (14,'Biological Chemistry and Drug Discovery'),\n",
    "              'MBIO': (16,'Microbiology'),\n",
    "              'MOLB': (18,'Molecular Biology'),\n",
    "              'MOLG': (20,'Molecular Genetics')\n",
    "             }\n",
    "              # list tables\n",
    "count=0\n",
    "for t in doc.tables:\n",
    "    print(count,len(t.rows), t.row_cells(0)[0].text)\n",
    "    count+=1"
   ]
  },
  {
   "cell_type": "markdown",
   "id": "281ba6a2",
   "metadata": {},
   "source": [
    "Now link all modules for the biological programmes"
   ]
  },
  {
   "cell_type": "code",
   "execution_count": null,
   "id": "9fcd0e2a",
   "metadata": {},
   "outputs": [],
   "source": [
    "tablelist = [t for t in doc.tables]\n",
    "for rt in tablecount:\n",
    "    print(rt, tablecount[rt][0])    \n",
    "    modmap = []\n",
    "    structure ={}\n",
    "    for t in doc.tables:\n",
    "        for r in range(len(t.rows)):\n",
    "            #print(len(t.rows), len(t.row_cells(r)), t.row_cells(r)[0].text,[c.tables for c in t.row_cells(r)])\n",
    "            structure[t.row_cells(r)[0].text.split()[0]] = t.row_cells(r)\n",
    "    tc=0\n",
    "    sy = structure['Applicability'].split()[-1]\n",
    "    try:\n",
    "        for m in tablelist[tablecount[rt][0]:tablecount[rt][0]+2]:\n",
    "            coretype=['Core','Elective'][tc%2]\n",
    "            tc+=1\n",
    "            for r in range(1,len(m.rows)):\n",
    "                print([coretype]+[c.text for c in m.row_cells(r)])\n",
    "                modmap.append([coretype]+[c.text for c in m.row_cells(r)])\n",
    "        programmes[rt]=factory.get_or_create_Element('Programme', code=rt,name=structure['1.1'][-1].text.replace('Biological Sciences', tablecount[rt][1]))\n",
    "        for m in modmap:\n",
    "            if modules.get(m[1].strip('*')):\n",
    "                programmes[rt].map_module(modules[m[1].strip('*')],m[0]=='Elective', year=sy)\n",
    "    except Exception as e:\n",
    "        print(r, tablecount.get(r, 'Error'), e)"
   ]
  },
  {
   "cell_type": "code",
   "execution_count": null,
   "id": "2f6bfdc5",
   "metadata": {},
   "outputs": [],
   "source": [
    "#Add new modules\n",
    "#progdir='c:/Users/marti/Documents/LifeSciteaching/Curriculum/Programmes/UG/'\n",
    "progdir ='c:/Users/dmamartin/OneDrive - University of Dundee/Teaching/CurriculumDB/New Biomed/Programmes/'\n",
    "\n",
    "#List the programme spec documents\n",
    "docs = {\n",
    "    'BIO':'BSc Hons Biologsci Programme Specification QASv3.docx',\n",
    "'BIMS': 'BSc Hons Biomedical Sciences Programme Specification 2324.docx',\n",
    " 'NEUR': 'BSc Hons Neuroscience Programme Specification QASv8.docx',\n",
    " 'PHAR': 'BSc Hons Pharmacology Programme Specification QASv6.docx',\n",
    " 'PHYS': 'BSc Hons Physiological Sciences Programme Specification QASv6.docx',\n",
    "'BIOBIMSNUS':'BSc (Hons) Joint Degree Biological and Biomedical Sciences QASv5.docx',\n",
    " 'BIOHAN':'BSc (Hons) Joint Degree Molecular Biosciences QASv2.docx'\n",
    "    \n",
    "}\n",
    "    \n",
    "\n"
   ]
  },
  {
   "cell_type": "markdown",
   "id": "9d94f3c4",
   "metadata": {},
   "source": [
    "# Extracting ILOS\n",
    "\n",
    "Extract the relevant section from the programme table (section 2.3) and then split so they are one ILO per line."
   ]
  },
  {
   "cell_type": "code",
   "execution_count": null,
   "id": "6c73c9e5",
   "metadata": {},
   "outputs": [],
   "source": [
    "ilos ={}\n",
    "for d in docs:\n",
    "    structure={}\n",
    "    doc = docx.Document(os.path.join(progdir, docs[d]))\n",
    "    for t in doc.tables:\n",
    "        for r in range(len(t.rows)):\n",
    "            #print(len(t.rows), len(t.row_cells(r)), t.row_cells(r)[0].text,[c.tables for c in t.row_cells(r)])\n",
    "            structure[t.row_cells(r)[0].text.split()[0]] = t.row_cells(r)\n",
    "    ilos[d]=structure['2.3'][1].text.split('\\n')"
   ]
  },
  {
   "cell_type": "markdown",
   "id": "6aa694c4",
   "metadata": {},
   "source": [
    "Reshape ILO extraction to tuples and dfine a simple wordbag comparison function."
   ]
  },
  {
   "cell_type": "code",
   "execution_count": null,
   "id": "40fb8df4",
   "metadata": {},
   "outputs": [],
   "source": [
    " iloslong=[(m,i) for m in ilos for i in ilos[m] if i]\n",
    "\n",
    "def ilocompare(a, b):\n",
    "    '''Take in two (Module, ILO) tuples and compare them by intersection/union \n",
    "    of the sets of all words in ILO greater than 4 characters long.\n",
    "    This does no stemming or thesaurus lookup.'''\n",
    "    seta = set([ word for word in a[1].split() if len(word)>4])\n",
    "    setb = set([ word for word in b[1].split() if len(word)>4])\n",
    "    union =seta.union(setb)\n",
    "    inter = seta.intersection(setb)\n",
    "    if not union:\n",
    "        return 1\n",
    "    return 1-(len(inter)/len(union))"
   ]
  },
  {
   "cell_type": "markdown",
   "id": "ba2081f7",
   "metadata": {},
   "source": [
    "Create a full distance matrix for all ILOs in the list "
   ]
  },
  {
   "cell_type": "code",
   "execution_count": null,
   "id": "2bc4ae9f",
   "metadata": {},
   "outputs": [],
   "source": [
    "dm =[]\n",
    "for y in range(len(iloslong)):\n",
    "    ymat=[]\n",
    "    for x in range(len(iloslong)):\n",
    "        ymat.append(ilocompare(iloslong[x], iloslong[y]))\n",
    "    dm.append(ymat)"
   ]
  },
  {
   "cell_type": "markdown",
   "id": "d3f6effd",
   "metadata": {},
   "source": [
    "Import necessary libraries to cluster the ILOs"
   ]
  },
  {
   "cell_type": "code",
   "execution_count": null,
   "id": "a985036a",
   "metadata": {},
   "outputs": [],
   "source": [
    "import random\n",
    "import numpy as np\n",
    "from matplotlib import pyplot as plt\n",
    "from scipy.cluster.hierarchy import linkage, dendrogram, ward, fcluster,cut_tree\n",
    "from scipy.spatial.distance import pdist, squareform\n",
    "%matplotlib inline"
   ]
  },
  {
   "cell_type": "code",
   "execution_count": null,
   "id": "1de33bcc",
   "metadata": {},
   "outputs": [],
   "source": [
    "#Convert full distance matrix to a condensed distance matrix\n",
    "pdm=squareform(dm)\n",
    "# Hierarchically cluster with Ward algorithm\n",
    "iloh =ward(pdm)"
   ]
  },
  {
   "cell_type": "code",
   "execution_count": null,
   "id": "db8cb8dd",
   "metadata": {},
   "outputs": [],
   "source": [
    "#Calculate the dendrogram\n",
    "dendrogram(iloh)\n",
    "#Display the dendrogram\n",
    "plt.show()\n",
    "# Picked a cutoff by eye from the tree and list cluster number for each ILO \n",
    "clusters=cut_tree(iloh, height=1.0)"
   ]
  },
  {
   "cell_type": "code",
   "execution_count": null,
   "id": "2eb5988b",
   "metadata": {},
   "outputs": [],
   "source": [
    "#Extend ILO list to give a unique number and the cluster number.\n",
    "for p in range(len(iloslong)):\n",
    "    if len(iloslong[p])==2:\n",
    "        iloslong[p]= [p]+list(iloslong[p])+list(clusters[p])\n",
    "    else:\n",
    "        iloslong[p][3] = int(clusters[p])\n",
    "    \n"
   ]
  },
  {
   "cell_type": "code",
   "execution_count": null,
   "id": "99e9fb0d",
   "metadata": {},
   "outputs": [],
   "source": [
    "#Group cluster terms together.\n",
    "groupedterms ={}\n",
    "for x in iloslong:\n",
    "    if not groupedterms.get(x[3]):\n",
    "        groupedterms[x[3]]=[]\n",
    "    groupedterms[x[3]].append(x)\n",
    "    "
   ]
  },
  {
   "cell_type": "code",
   "execution_count": null,
   "id": "fcd8d681",
   "metadata": {},
   "outputs": [],
   "source": [
    "groupedterms[3]"
   ]
  },
  {
   "cell_type": "code",
   "execution_count": null,
   "id": "9b930ee1",
   "metadata": {},
   "outputs": [],
   "source": [
    "#Output ILOS with cluster info to a tab separated file\n",
    "ofh = open('programmeilos.txt','w')\n",
    "print('Ref','Programme','ILO', 'Cluster',file=ofh, sep='\\t')\n",
    "for i in iloslong:\n",
    "    i[2]=i[2].replace('\\u2010','')\n",
    "    print('\\t'.join([f'{x}'.replace('\\t',' ') for x in i]), file=ofh )\n",
    "ofh.close()"
   ]
  }
 ],
 "metadata": {
  "kernelspec": {
   "display_name": "Python 3 (ipykernel)",
   "language": "python",
   "name": "python3"
  },
  "language_info": {
   "codemirror_mode": {
    "name": "ipython",
    "version": 3
   },
   "file_extension": ".py",
   "mimetype": "text/x-python",
   "name": "python",
   "nbconvert_exporter": "python",
   "pygments_lexer": "ipython3",
   "version": "3.11.5"
  }
 },
 "nbformat": 4,
 "nbformat_minor": 5
}
