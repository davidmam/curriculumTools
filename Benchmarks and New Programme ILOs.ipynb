{
 "cells": [
  {
   "cell_type": "code",
   "execution_count": 2,
   "id": "5a78d6fd",
   "metadata": {},
   "outputs": [],
   "source": [
    "import docx\n",
    "import openpyxl\n",
    "import os\n",
    "import re\n",
    "from CurriculumDB.Modelsn4j import *\n",
    "from neo4j import GraphDatabase\n"
   ]
  },
  {
   "cell_type": "code",
   "execution_count": 3,
   "id": "e3421c22",
   "metadata": {},
   "outputs": [
    {
     "name": "stdout",
     "output_type": "stream",
     "text": [
      "<neo4j._sync.driver.BoltDriver object at 0x000001F22F8BB710>\n",
      "None\n"
     ]
    }
   ],
   "source": [
    "# URI examples: \"neo4j://localhost\", \"neo4j+s://xxx.databases.neo4j.io\"\n",
    "URI = \"bolt://localhost:7687\"\n",
    "AUTH = (\"curriculum\", \"mycurriculum\")\n",
    "\n",
    "driver = GraphDatabase.driver(URI, auth=AUTH)\n",
    "print(driver)\n",
    "print(driver.verify_connectivity())\n",
    "#help(driver.verify_connectivity)\n",
    "factory = CurriculumFactory(driver, 'curriculumdb')"
   ]
  },
  {
   "cell_type": "code",
   "execution_count": null,
   "id": "6120d64f",
   "metadata": {},
   "outputs": [],
   "source": [
    "QAAWB = {'Biomedical Sciences': \"QAA biomedical benchmarks.xlsx\",\n",
    "'Biological Sciences': \"QAA mapping biosciences.xlsx\"}"
   ]
  },
  {
   "cell_type": "code",
   "execution_count": null,
   "id": "6f3a1029",
   "metadata": {},
   "outputs": [],
   "source": [
    "for subject in QAAWB: \n",
    "    print(subject)\n",
    "    workbook=openpyxl.load_workbook(filename=QAAWB[subject], data_only=True)\n",
    "    sheet = workbook['Sheet1']\n",
    "    header = [v.value.lower() for v in sheet[1][:7]]\n",
    "    row=2\n",
    "    while sheet.cell(row=row, column=2).value:\n",
    "        values = [v.value for v in sheet[row][:7]]\n",
    "        params=dict(zip(header,values))\n",
    "        print(params)\n",
    "        factory.get_or_create_Element('QAABenchmark', **params)\n",
    "        row +=1\n",
    "    workbook.close()"
   ]
  },
  {
   "cell_type": "code",
   "execution_count": null,
   "id": "9596d5ec",
   "metadata": {},
   "outputs": [],
   "source": [
    "workbook=openpyxl.load_workbook(filename=QAAWB['Biomedical Sciences'], data_only=True)"
   ]
  },
  {
   "cell_type": "code",
   "execution_count": null,
   "id": "b5160747",
   "metadata": {},
   "outputs": [],
   "source": [
    "sheet= workbook['Sheet1']"
   ]
  },
  {
   "cell_type": "code",
   "execution_count": null,
   "id": "bcaa13fc",
   "metadata": {},
   "outputs": [],
   "source": [
    "[v.value for v in sheet[1]]"
   ]
  },
  {
   "cell_type": "code",
   "execution_count": 7,
   "id": "8f1a991f",
   "metadata": {},
   "outputs": [
    {
     "name": "stdout",
     "output_type": "stream",
     "text": [
      "['criterion', 'section', 'subsection', 'criterion_text', 'section_text', 'subsection_text', 'notes']\n"
     ]
    }
   ],
   "source": [
    "rsbfile = 'RSB criteria.xlsx'\n",
    "rsbwb = openpyxl.load_workbook(rsbfile)\n",
    "sheet =rsbwb['Sheet2']\n",
    "print([x.value for x in sheet[1]])\n"
   ]
  },
  {
   "cell_type": "code",
   "execution_count": 5,
   "id": "6d0ede27",
   "metadata": {},
   "outputs": [
    {
     "name": "stdout",
     "output_type": "stream",
     "text": [
      "{'criterion': 'text name of subject area', 'section': 'Section number', 'subsection': 'Subsection number', 'section_text': 'Text section name', 'subsection_text': 'text subsection name', 'criterion_text': 'descriptor text'} {'notes': 'Additional notes', 'version': 'Version identifier'}\n"
     ]
    }
   ],
   "source": [
    "print(RSBCriterion.requiredParams, RSBCriterion.optionalParams)\n"
   ]
  },
  {
   "cell_type": "code",
   "execution_count": 6,
   "id": "cae77233",
   "metadata": {},
   "outputs": [
    {
     "name": "stdout",
     "output_type": "stream",
     "text": [
      "{'criterion': 1, 'section': 'i', 'subsection': ' ', 'criterion_text': 'A graduating level capstone experience which includes the analysis and critical evaluation of data within an independently produced piece of work ', 'section_text': 'The capstone experience is:', 'subsection_text': 'i. The capstone experience will integrate and develop the skills and knowledge gained in earlier years; bring reflection and focus to the whole of the degree experience; and provide students with the opportunity to demonstrate and apply the understanding and skills that they have developed', 'notes': 'The capstone experience tackles a central scientific question or issue in depth, which the students take ownership of. All sections of the capstone experience should relate to the same issue rather than being a collection of unrelated essays. The capstone experience must be the pinnacle of the course, drawing on and extending the students’ learning at previous levels. It should be a first-hand experience of performing science. The Society accepts that research is a collaborative process (e.g. between student and supervisor) but the contribution of individual students must be identifiable and assessable.'}\n"
     ]
    }
   ],
   "source": [
    "header = [x.value for x in sheet[1]]\n",
    "values = [x.value for x in sheet[2]]\n",
    "print(dict(zip(header, values)))"
   ]
  },
  {
   "cell_type": "code",
   "execution_count": 14,
   "id": "61952d75",
   "metadata": {},
   "outputs": [
    {
     "name": "stdout",
     "output_type": "stream",
     "text": [
      "2 i\n",
      "3 ii\n",
      "4 ii\n",
      "5 ii\n",
      "6 ii\n",
      "7 i\n",
      "8 ii \n",
      "9 iii\n",
      "10 iv\n",
      "11 v\n",
      "12 vi\n",
      "13 i\n",
      "14 ii\n",
      "15 iii\n",
      "16 iv\n",
      "17 v\n",
      "18 vi\n",
      "19 vii\n",
      "20 i\n",
      "21 ii\n",
      "22 iii\n",
      "23 i\n",
      "24 ii\n",
      "25 iii\n",
      "26 iii\n",
      "27 iii\n",
      "28 iii\n",
      "29 iii\n",
      "30 iii\n",
      "31 i\n",
      "32 ii\n",
      "33 ii\n",
      "34 ii\n",
      "35 ii\n",
      "36 ii\n"
     ]
    }
   ],
   "source": [
    "row=2\n",
    "while sheet[row][0].value is not None:\n",
    "    print(row,sheet[row][1].value)\n",
    "    data = dict(zip(header, [x.value for x in sheet[row]]))\n",
    "    for e in data:\n",
    "        if not data[e]:\n",
    "            data[e] ='-'\n",
    "    factory.get_or_create_Element('RSBCriterion', **data)\n",
    "    row +=1"
   ]
  }
 ],
 "metadata": {
  "kernelspec": {
   "display_name": "Python 3 (ipykernel)",
   "language": "python",
   "name": "python3"
  },
  "language_info": {
   "codemirror_mode": {
    "name": "ipython",
    "version": 3
   },
   "file_extension": ".py",
   "mimetype": "text/x-python",
   "name": "python",
   "nbconvert_exporter": "python",
   "pygments_lexer": "ipython3",
   "version": "3.11.5"
  }
 },
 "nbformat": 4,
 "nbformat_minor": 5
}
