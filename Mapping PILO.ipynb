{
 "cells": [
  {
   "cell_type": "code",
   "execution_count": 1,
   "id": "8b5f8f61",
   "metadata": {},
   "outputs": [
    {
     "name": "stdout",
     "output_type": "stream",
     "text": [
      "<neo4j._sync.driver.BoltDriver object at 0x0000016E68AF5C90>\n",
      "None\n"
     ]
    }
   ],
   "source": [
    "from neo4j import GraphDatabase\n",
    "from CurriculumDB.Modelsn4j import *\n",
    "import docx\n",
    "import os\n",
    "import openpyxl\n",
    "\n",
    "# URI examples: \"neo4j://localhost\", \"neo4j+s://xxx.databases.neo4j.io\"\n",
    "URI = \"bolt://localhost:7687\"\n",
    "AUTH = (\"curriculum\", \"mycurriculum\")\n",
    "\n",
    "driver = GraphDatabase.driver(URI, auth=AUTH)\n",
    "print(driver)\n",
    "print(driver.verify_connectivity())\n",
    "#help(driver.verify_connectivity)\n",
    "\n",
    "factoryname='curriculumdb'\n",
    "\n",
    "factory = CurriculumFactory(driver, factoryname)"
   ]
  },
  {
   "cell_type": "code",
   "execution_count": 2,
   "id": "5eb37bc3",
   "metadata": {},
   "outputs": [],
   "source": [
    "# extract all programme ILOs\n",
    "# Extract all modules and module ILOs\n",
    "#Extract all RSB benchmarks\n",
    "# Extract NIBLSE\n",
    "\n",
    "pilos = factory.get_all_elements('ProgrammeILO')\n",
    "modules = factory.get_all_elements('Module')\n",
    "rsb = factory.get_all_elements('RSBCriterion')\n",
    "niblse = factory.get_all_elements('NIBLSEcompetency')"
   ]
  },
  {
   "cell_type": "code",
   "execution_count": null,
   "id": "b9f32b8d",
   "metadata": {},
   "outputs": [],
   "source": [
    "niblse[0].params"
   ]
  },
  {
   "cell_type": "code",
   "execution_count": null,
   "id": "0a7ebf05",
   "metadata": {},
   "outputs": [],
   "source": [
    "from openpyxl.styles import Font\n",
    "\n",
    "\n",
    "headerfont = Font(color=\"000088\",bold=True, name='Arial', size=14)\n",
    "wrapit = openpyxl.styles.Alignment(wrap_text=True)\n",
    "titlefont= Font(color='000000',name=\"Arial\", bold=True, size=16)\n",
    "wb = openpyxl.Workbook()\n",
    "wb.create_sheet('RSBCriteria')\n",
    "sheet=wb['RSBCriteria']\n",
    "sheet.append(['ID', 'code', 'criterion','section', 'subsection', \n",
    "              'criterion_text', 'section_text', 'subsection_text', 'notes'])\n",
    "for r in rsb:\n",
    "        code = f\"{r.params.get('criterion',' ')} {r.params.get('section',' ')} {r.params.get('subsection',' ')}: {r.params.get('criterion_text',' ')}: {r.params.get('section_text',' ')}: {r.params.get('subsection_text',' ')}\"\n",
    "        sheet.append([r.element_id, code,r.params.get('criterion',' '),r.params.get('section',' '),\n",
    "                      r.params.get('subsection',' '),r.params.get('criterion_text',' '),r.params.get('section_text',' '),\n",
    "                      r.params.get('subsection_text',' '),r.params.get('notes',' ') ])\n",
    "rdv = openpyxl.worksheet.datavalidation.DataValidation(type=\"list\", formula1=f\"RSBCriteria!$B$2:$B${sheet.max_row}\" , allow_blank=True)\n",
    "rdv.prompt=\"Map to RSB Criteria\"\n",
    "wb.create_sheet('ProgrammeILOs')\n",
    "wb.remove(wb['Sheet'])\n",
    "sheet=wb['ProgrammeILOs']\n",
    "sheet.append(['ILO id','Programme ILO', 'RSB Criterion'])\n",
    "sheet[\"A1\"].font=headerfont\n",
    "sheet[\"B1\"].font=headerfont\n",
    "sheet[\"C1\"].font=headerfont\n",
    "sheet.add_data_validation(rdv)\n",
    "for p in pilos:\n",
    "    sheet.append([p.element_id, p.params['outcome']])\n",
    "    rdv.add(sheet[f'C{sheet.max_row}'])\n",
    "    sheet[f'B{sheet.max_row}'].alignment=wrapit\n",
    "    sheet[f'C{sheet.max_row}'].alignment=wrapit\n",
    "sheet.column_dimensions['B'].width=120\n",
    "sheet.column_dimensions['C'].width=80\n",
    "pcount = sheet.max_row-1\n",
    "print(pcount)\n",
    "pdv = openpyxl.worksheet.datavalidation.DataValidation(type=\"list\", formula1=f\"ProgrammeILOs!$B$2:$B${pcount+1}\" , allow_blank=True)\n",
    "pdv.prompt=\"Map to Programme ILO\"\n",
    "\n",
    "wb.create_sheet('NIBLSE')\n",
    "sheet=wb['NIBLSE']\n",
    "sheet.append(['ID', 'code', 'competency', 'descriptor', 'explanation', 'examples'])\n",
    "for i in \"ABCDEF\":\n",
    "    sheet[f\"{i}1\"].font=headerfont\n",
    "for n in niblse:\n",
    "    code = f\"{n.params.get('competency',' ')}, {n.params.get('descriptor',' ')}\"\n",
    "    sheet.append([n.element_id, code,n.params.get('competency',' ') , n.params.get('descriptor',' '),\n",
    "                  n.params.get('explanation',' '), n.params.get('examples',' ')])\n",
    "ndv = openpyxl.worksheet.datavalidation.DataValidation(type=\"list\", formula1=f\"NIBLSE!$B$2:$B${sheet.max_row}\", allow_blank=True)\n",
    "ndv.prompt=\"Map to NIBLSE competency\"\n",
    "for m in modules:\n",
    "    wb.create_sheet(m.params['code'].upper())\n",
    "    \n",
    "    sheet = wb[m.params['code'].upper()]\n",
    "    sheet.add_data_validation(pdv)\n",
    "    sheet.add_data_validation(ndv)\n",
    "    sheet.append([m.params.get('code',''),m.params.get('name','')])\n",
    "    sheet.append([])\n",
    "    sheet.append(['ID', 'ILO', 'Programme ILO', 'NIBLSE'])\n",
    "    for i in \"ABCD\":\n",
    "        sheet[f\"{i}3\"].font=headerfont\n",
    "    sheet.column_dimensions['B'].width=80\n",
    "    sheet.column_dimensions['C'].width=80\n",
    "    sheet.column_dimensions['D'].width=80\n",
    "    \n",
    "    \n",
    "    for i in m.ILO:\n",
    "        sheet.append([i, m.ILO[i][0].get('outcome')])\n",
    "        icell=sheet[f\"B{sheet.max_row}\"]\n",
    "        icell.alignment=wrapit\n",
    "        pcell = sheet[f\"C{sheet.max_row}\"]\n",
    "        pcell.alignment=wrapit\n",
    "        ncell = sheet[f\"D{sheet.max_row}\"]\n",
    "        ncell.alignment=wrapit\n",
    "        pdv.add(pcell)\n",
    "        ndv.add(ncell)\n",
    "wb.save('modulemap.xlsx')"
   ]
  },
  {
   "cell_type": "code",
   "execution_count": null,
   "id": "8ef352f2",
   "metadata": {},
   "outputs": [],
   "source": [
    "help(openpyxl.worksheet.datavalidation.DataValidation)"
   ]
  }
 ],
 "metadata": {
  "kernelspec": {
   "display_name": "Python 3 (ipykernel)",
   "language": "python",
   "name": "python3"
  },
  "language_info": {
   "codemirror_mode": {
    "name": "ipython",
    "version": 3
   },
   "file_extension": ".py",
   "mimetype": "text/x-python",
   "name": "python",
   "nbconvert_exporter": "python",
   "pygments_lexer": "ipython3",
   "version": "3.11.7"
  }
 },
 "nbformat": 4,
 "nbformat_minor": 5
}
