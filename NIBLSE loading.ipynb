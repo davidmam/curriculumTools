{
 "cells": [
  {
   "cell_type": "code",
   "execution_count": 1,
   "id": "b25f6635",
   "metadata": {},
   "outputs": [],
   "source": [
    "import os\n",
    "import re\n",
    "from CurriculumDB.Modelsn4j import *\n",
    "from neo4j import GraphDatabase"
   ]
  },
  {
   "cell_type": "code",
   "execution_count": 3,
   "id": "ee472ba9",
   "metadata": {},
   "outputs": [
    {
     "name": "stdout",
     "output_type": "stream",
     "text": [
      "<neo4j._sync.driver.BoltDriver object at 0x000002A42661EBD0>\n",
      "None\n"
     ]
    }
   ],
   "source": [
    "URI = \"bolt://localhost:7687\"\n",
    "AUTH = (\"curriculum\", \"mycurriculum\")\n",
    "\n",
    "driver = GraphDatabase.driver(URI, auth=AUTH)\n",
    "print(driver)\n",
    "print(driver.verify_connectivity())\n",
    "#help(driver.verify_connectivity)\n",
    "factory = CurriculumFactory(driver, 'curriculumdb')"
   ]
  },
  {
   "cell_type": "code",
   "execution_count": 13,
   "id": "4fb804c2",
   "metadata": {},
   "outputs": [],
   "source": [
    "fh = open('NIBLSE.txt')\n",
    "lines=fh.readlines()\n",
    "for c in range(9):\n",
    "    try:\n",
    "        header = lines[c*4].strip()\n",
    "        examples = '\\n'.join([l.strip()[3:] for l in lines[c*4+1:c*4+4]])\n",
    "        (competency, descriptor, explaination) = header.split('. ',2)\n",
    "        #print(competency, descriptor, explaination, examples, sep='\\n')\n",
    "        factory.get_or_create_Element('NIBLSEcompetency', competency=competency, descriptor=descriptor, explanation=explaination, examples=examples)\n",
    "    except:\n",
    "        print(\"ERROR: \", header)  "
   ]
  }
 ],
 "metadata": {
  "kernelspec": {
   "display_name": "Python 3 (ipykernel)",
   "language": "python",
   "name": "python3"
  },
  "language_info": {
   "codemirror_mode": {
    "name": "ipython",
    "version": 3
   },
   "file_extension": ".py",
   "mimetype": "text/x-python",
   "name": "python",
   "nbconvert_exporter": "python",
   "pygments_lexer": "ipython3",
   "version": "3.11.5"
  }
 },
 "nbformat": 4,
 "nbformat_minor": 5
}
