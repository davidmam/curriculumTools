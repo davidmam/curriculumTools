{
 "cells": [
  {
   "cell_type": "code",
   "execution_count": 6,
   "id": "6d342b62",
   "metadata": {},
   "outputs": [],
   "source": [
    "import docx"
   ]
  },
  {
   "cell_type": "code",
   "execution_count": 7,
   "id": "c6bf9223",
   "metadata": {},
   "outputs": [],
   "source": [
    "biomed = docx.Document('C:/Users/dmamartin/OneDrive - University of Dundee/Teaching/CurriculumDB/curriculumTools/sbs-biomedical-science-and-biomedical-sciences-23.docx')"
   ]
  },
  {
   "cell_type": "code",
   "execution_count": 22,
   "id": "26144a59",
   "metadata": {},
   "outputs": [],
   "source": [
    "with open('qaa-biomed-4-23.txt', 'w') as ofh:\n",
    "    for t in biomed.tables[:3]:\n",
    "        for r in range(len(t.rows)):\n",
    "            print(\"\\t\".join([x.text for x in t.row_cells(r)]), file=ofh)"
   ]
  },
  {
   "cell_type": "code",
   "execution_count": 20,
   "id": "946af714",
   "metadata": {},
   "outputs": [
    {
     "name": "stdout",
     "output_type": "stream",
     "text": [
      "Dr Sue Jones (Deputy Chair) \n",
      "Institute of Biomedical Science \n",
      "Professor Carol Ainley \n",
      "Manchester Metropolitan University \n",
      "Dr Avninder Singh Bhambra \n",
      "De Montfort University \n",
      "Victoria Bradley \n",
      "Cardiff Metropolitan University \n",
      "Daniel Kassahun \n",
      "University College London  \n",
      "Dr Sobia Kauser \n",
      "University of Bradford \n",
      "Kevin Kendall \n",
      "QAA Officer \n",
      "Dr Ian Locke \n",
      "University of Westminster \n",
      "Professor Stephen McClean \n",
      "Ulster University \n",
      "Dr Liz O'Gara \n",
      "University of Wolverhampton \n",
      "Lee Peters \n",
      "Swansea Bay University Health Board \n",
      "Professor Claire V S Pike \n",
      "Anglia Ruskin University \n",
      "Dr Sarah Pitt \n",
      "University of Brighton \n",
      "Nicola Richards \n",
      "Nottingham Trent University \n",
      "Andrew Usher \n",
      "Gloucestershire Hospitals NHS Foundation Trust \n",
      "Alan Wainwright \n",
      "Institute of Biomedical Science \n",
      "Dr Linda Walsh \n",
      "Glasgow Caledonian University \n",
      "Aminul Schuster \n",
      "University of Westminster \n"
     ]
    }
   ],
   "source": [
    "for r in range(len(biomed.tables[3].rows)):\n",
    "    for cell in biomed.tables[3].row_cells(r):\n",
    "        print(cell.text)"
   ]
  }
 ],
 "metadata": {
  "kernelspec": {
   "display_name": "Python 3 (ipykernel)",
   "language": "python",
   "name": "python3"
  },
  "language_info": {
   "codemirror_mode": {
    "name": "ipython",
    "version": 3
   },
   "file_extension": ".py",
   "mimetype": "text/x-python",
   "name": "python",
   "nbconvert_exporter": "python",
   "pygments_lexer": "ipython3",
   "version": "3.11.5"
  }
 },
 "nbformat": 4,
 "nbformat_minor": 5
}
